{
 "cells": [
  {
   "cell_type": "code",
   "execution_count": 44,
   "metadata": {
    "collapsed": true
   },
   "outputs": [],
   "source": [
    "import scipy.stats\n",
    "import matplotlib.pyplot as plt\n",
    "\n",
    "\n",
    "from scipy import stats\n",
    "from scipy.optimize import curve_fit\n",
    "from ipywidgets import interact, interactive, fixed\n",
    "import ipywidgets as widgets\n",
    "import seaborn as sns\n",
    "\n",
    "import pandas as pd\n",
    "import numpy as np\n",
    "import folium\n",
    "\n",
    "%matplotlib inline\n",
    "\n"
   ]
  },
  {
   "cell_type": "markdown",
   "metadata": {},
   "source": [
    "We will analyze the electoral margins for each state over time."
   ]
  },
  {
   "cell_type": "code",
   "execution_count": 2,
   "metadata": {
    "scrolled": false
   },
   "outputs": [
    {
     "data": {
      "text/html": [
       "<div>\n",
       "<style>\n",
       "    .dataframe thead tr:only-child th {\n",
       "        text-align: right;\n",
       "    }\n",
       "\n",
       "    .dataframe thead th {\n",
       "        text-align: left;\n",
       "    }\n",
       "\n",
       "    .dataframe tbody tr th {\n",
       "        vertical-align: top;\n",
       "    }\n",
       "</style>\n",
       "<table border=\"1\" class=\"dataframe\">\n",
       "  <thead>\n",
       "    <tr style=\"text-align: right;\">\n",
       "      <th></th>\n",
       "      <th>State</th>\n",
       "      <th>1976D</th>\n",
       "      <th>1976R</th>\n",
       "      <th>1980R</th>\n",
       "      <th>1980D</th>\n",
       "      <th>1984R</th>\n",
       "      <th>1984D</th>\n",
       "      <th>1988R</th>\n",
       "      <th>1988D</th>\n",
       "      <th>1992D</th>\n",
       "      <th>...</th>\n",
       "      <th>2000R</th>\n",
       "      <th>2000D</th>\n",
       "      <th>2004R</th>\n",
       "      <th>2004D</th>\n",
       "      <th>2008D</th>\n",
       "      <th>2008R</th>\n",
       "      <th>2012D</th>\n",
       "      <th>2012R</th>\n",
       "      <th>2016D</th>\n",
       "      <th>2016R</th>\n",
       "    </tr>\n",
       "  </thead>\n",
       "  <tbody>\n",
       "    <tr>\n",
       "      <th>0</th>\n",
       "      <td>Alabama</td>\n",
       "      <td>659170.0</td>\n",
       "      <td>504070.0</td>\n",
       "      <td>654192.0</td>\n",
       "      <td>636730.0</td>\n",
       "      <td>872849.0</td>\n",
       "      <td>551899.0</td>\n",
       "      <td>815576.0</td>\n",
       "      <td>549506.0</td>\n",
       "      <td>690080.0</td>\n",
       "      <td>...</td>\n",
       "      <td>941173.0</td>\n",
       "      <td>692611.0</td>\n",
       "      <td>1176394.0</td>\n",
       "      <td>693933.0</td>\n",
       "      <td>813479.0</td>\n",
       "      <td>1266546.0</td>\n",
       "      <td>795696.0</td>\n",
       "      <td>1255925.0</td>\n",
       "      <td>729547.0</td>\n",
       "      <td>1318255.0</td>\n",
       "    </tr>\n",
       "    <tr>\n",
       "      <th>1</th>\n",
       "      <td>Alaska</td>\n",
       "      <td>44058.0</td>\n",
       "      <td>71555.0</td>\n",
       "      <td>86112.0</td>\n",
       "      <td>41842.0</td>\n",
       "      <td>138377.0</td>\n",
       "      <td>62007.0</td>\n",
       "      <td>119251.0</td>\n",
       "      <td>72584.0</td>\n",
       "      <td>78294.0</td>\n",
       "      <td>...</td>\n",
       "      <td>167398.0</td>\n",
       "      <td>79004.0</td>\n",
       "      <td>190889.0</td>\n",
       "      <td>111025.0</td>\n",
       "      <td>123594.0</td>\n",
       "      <td>193841.0</td>\n",
       "      <td>122640.0</td>\n",
       "      <td>164676.0</td>\n",
       "      <td>116454.0</td>\n",
       "      <td>163387.0</td>\n",
       "    </tr>\n",
       "    <tr>\n",
       "      <th>2</th>\n",
       "      <td>Arizona</td>\n",
       "      <td>295602.0</td>\n",
       "      <td>418642.0</td>\n",
       "      <td>529688.0</td>\n",
       "      <td>246843.0</td>\n",
       "      <td>681416.0</td>\n",
       "      <td>333854.0</td>\n",
       "      <td>702541.0</td>\n",
       "      <td>454029.0</td>\n",
       "      <td>543050.0</td>\n",
       "      <td>...</td>\n",
       "      <td>781652.0</td>\n",
       "      <td>685341.0</td>\n",
       "      <td>1104294.0</td>\n",
       "      <td>893524.0</td>\n",
       "      <td>1034707.0</td>\n",
       "      <td>1230111.0</td>\n",
       "      <td>1025232.0</td>\n",
       "      <td>1233654.0</td>\n",
       "      <td>1161167.0</td>\n",
       "      <td>1252401.0</td>\n",
       "    </tr>\n",
       "    <tr>\n",
       "      <th>3</th>\n",
       "      <td>Arkansas</td>\n",
       "      <td>499614.0</td>\n",
       "      <td>268753.0</td>\n",
       "      <td>403164.0</td>\n",
       "      <td>398041.0</td>\n",
       "      <td>534774.0</td>\n",
       "      <td>338646.0</td>\n",
       "      <td>466578.0</td>\n",
       "      <td>349237.0</td>\n",
       "      <td>505823.0</td>\n",
       "      <td>...</td>\n",
       "      <td>472940.0</td>\n",
       "      <td>422768.0</td>\n",
       "      <td>572898.0</td>\n",
       "      <td>469953.0</td>\n",
       "      <td>422310.0</td>\n",
       "      <td>638017.0</td>\n",
       "      <td>394409.0</td>\n",
       "      <td>647744.0</td>\n",
       "      <td>380494.0</td>\n",
       "      <td>684872.0</td>\n",
       "    </tr>\n",
       "    <tr>\n",
       "      <th>4</th>\n",
       "      <td>California</td>\n",
       "      <td>3742284.0</td>\n",
       "      <td>3882244.0</td>\n",
       "      <td>4524858.0</td>\n",
       "      <td>3083661.0</td>\n",
       "      <td>5467009.0</td>\n",
       "      <td>3922519.0</td>\n",
       "      <td>5054917.0</td>\n",
       "      <td>4702233.0</td>\n",
       "      <td>5121325.0</td>\n",
       "      <td>...</td>\n",
       "      <td>4567429.0</td>\n",
       "      <td>5861203.0</td>\n",
       "      <td>5509826.0</td>\n",
       "      <td>6745485.0</td>\n",
       "      <td>8274473.0</td>\n",
       "      <td>5011781.0</td>\n",
       "      <td>7854285.0</td>\n",
       "      <td>4839958.0</td>\n",
       "      <td>8753788.0</td>\n",
       "      <td>4483810.0</td>\n",
       "    </tr>\n",
       "  </tbody>\n",
       "</table>\n",
       "<p>5 rows × 23 columns</p>\n",
       "</div>"
      ],
      "text/plain": [
       "        State      1976D      1976R      1980R      1980D      1984R  \\\n",
       "0     Alabama   659170.0   504070.0   654192.0   636730.0   872849.0   \n",
       "1      Alaska    44058.0    71555.0    86112.0    41842.0   138377.0   \n",
       "2     Arizona   295602.0   418642.0   529688.0   246843.0   681416.0   \n",
       "3    Arkansas   499614.0   268753.0   403164.0   398041.0   534774.0   \n",
       "4  California  3742284.0  3882244.0  4524858.0  3083661.0  5467009.0   \n",
       "\n",
       "       1984D      1988R      1988D      1992D    ...          2000R  \\\n",
       "0   551899.0   815576.0   549506.0   690080.0    ...       941173.0   \n",
       "1    62007.0   119251.0    72584.0    78294.0    ...       167398.0   \n",
       "2   333854.0   702541.0   454029.0   543050.0    ...       781652.0   \n",
       "3   338646.0   466578.0   349237.0   505823.0    ...       472940.0   \n",
       "4  3922519.0  5054917.0  4702233.0  5121325.0    ...      4567429.0   \n",
       "\n",
       "       2000D      2004R      2004D      2008D      2008R      2012D  \\\n",
       "0   692611.0  1176394.0   693933.0   813479.0  1266546.0   795696.0   \n",
       "1    79004.0   190889.0   111025.0   123594.0   193841.0   122640.0   \n",
       "2   685341.0  1104294.0   893524.0  1034707.0  1230111.0  1025232.0   \n",
       "3   422768.0   572898.0   469953.0   422310.0   638017.0   394409.0   \n",
       "4  5861203.0  5509826.0  6745485.0  8274473.0  5011781.0  7854285.0   \n",
       "\n",
       "       2012R      2016D      2016R  \n",
       "0  1255925.0   729547.0  1318255.0  \n",
       "1   164676.0   116454.0   163387.0  \n",
       "2  1233654.0  1161167.0  1252401.0  \n",
       "3   647744.0   380494.0   684872.0  \n",
       "4  4839958.0  8753788.0  4483810.0  \n",
       "\n",
       "[5 rows x 23 columns]"
      ]
     },
     "execution_count": 2,
     "metadata": {},
     "output_type": "execute_result"
    }
   ],
   "source": [
    "indDataset = pd.read_csv('indResults.csv')\n",
    "indDataset.head()"
   ]
  },
  {
   "cell_type": "markdown",
   "metadata": {},
   "source": [
    "Lets see if there are any missing values to deal with."
   ]
  },
  {
   "cell_type": "code",
   "execution_count": 3,
   "metadata": {},
   "outputs": [
    {
     "data": {
      "text/plain": [
       "State    0\n",
       "1976D    0\n",
       "1976R    0\n",
       "1980R    0\n",
       "1980D    0\n",
       "1984R    0\n",
       "1984D    0\n",
       "1988R    0\n",
       "1988D    0\n",
       "1992D    0\n",
       "1992R    0\n",
       "1996D    0\n",
       "1996R    0\n",
       "2000R    0\n",
       "2000D    0\n",
       "2004R    0\n",
       "2004D    0\n",
       "2008D    0\n",
       "2008R    0\n",
       "2012D    0\n",
       "2012R    0\n",
       "2016D    0\n",
       "2016R    0\n",
       "dtype: int64"
      ]
     },
     "execution_count": 3,
     "metadata": {},
     "output_type": "execute_result"
    }
   ],
   "source": [
    "indDataset.isnull().sum()\n",
    "#Not at all"
   ]
  },
  {
   "cell_type": "markdown",
   "metadata": {},
   "source": [
    "Compute the percentage margins for each state, out of the total 2 party vote. This is done bc no third-party candidate has won a state in a presidential election since 1968. Additionally, it enables to better understand long-term trends in the partisan lean of the states."
   ]
  },
  {
   "cell_type": "code",
   "execution_count": 4,
   "metadata": {
    "scrolled": true
   },
   "outputs": [
    {
     "data": {
      "text/html": [
       "<div>\n",
       "<style>\n",
       "    .dataframe thead tr:only-child th {\n",
       "        text-align: right;\n",
       "    }\n",
       "\n",
       "    .dataframe thead th {\n",
       "        text-align: left;\n",
       "    }\n",
       "\n",
       "    .dataframe tbody tr th {\n",
       "        vertical-align: top;\n",
       "    }\n",
       "</style>\n",
       "<table border=\"1\" class=\"dataframe\">\n",
       "  <thead>\n",
       "    <tr style=\"text-align: right;\">\n",
       "      <th></th>\n",
       "      <th>State</th>\n",
       "      <th>1976D</th>\n",
       "      <th>1976R</th>\n",
       "      <th>1980R</th>\n",
       "      <th>1980D</th>\n",
       "      <th>1984R</th>\n",
       "      <th>1984D</th>\n",
       "      <th>1988R</th>\n",
       "      <th>1988D</th>\n",
       "      <th>1992D</th>\n",
       "      <th>...</th>\n",
       "      <th>2000D%</th>\n",
       "      <th>2000R%</th>\n",
       "      <th>2004D%</th>\n",
       "      <th>2004R%</th>\n",
       "      <th>2008D%</th>\n",
       "      <th>2008R%</th>\n",
       "      <th>2012D%</th>\n",
       "      <th>2012R%</th>\n",
       "      <th>2016D%</th>\n",
       "      <th>2016R%</th>\n",
       "    </tr>\n",
       "  </thead>\n",
       "  <tbody>\n",
       "    <tr>\n",
       "      <th>0</th>\n",
       "      <td>Alabama</td>\n",
       "      <td>659170.0</td>\n",
       "      <td>504070.0</td>\n",
       "      <td>654192.0</td>\n",
       "      <td>636730.0</td>\n",
       "      <td>872849.0</td>\n",
       "      <td>551899.0</td>\n",
       "      <td>815576.0</td>\n",
       "      <td>549506.0</td>\n",
       "      <td>690080.0</td>\n",
       "      <td>...</td>\n",
       "      <td>0.423931</td>\n",
       "      <td>0.576069</td>\n",
       "      <td>0.371022</td>\n",
       "      <td>0.628978</td>\n",
       "      <td>0.391091</td>\n",
       "      <td>0.608909</td>\n",
       "      <td>0.387838</td>\n",
       "      <td>0.612162</td>\n",
       "      <td>0.356259</td>\n",
       "      <td>0.643741</td>\n",
       "    </tr>\n",
       "    <tr>\n",
       "      <th>1</th>\n",
       "      <td>Alaska</td>\n",
       "      <td>44058.0</td>\n",
       "      <td>71555.0</td>\n",
       "      <td>86112.0</td>\n",
       "      <td>41842.0</td>\n",
       "      <td>138377.0</td>\n",
       "      <td>62007.0</td>\n",
       "      <td>119251.0</td>\n",
       "      <td>72584.0</td>\n",
       "      <td>78294.0</td>\n",
       "      <td>...</td>\n",
       "      <td>0.320631</td>\n",
       "      <td>0.679369</td>\n",
       "      <td>0.367737</td>\n",
       "      <td>0.632263</td>\n",
       "      <td>0.389352</td>\n",
       "      <td>0.610648</td>\n",
       "      <td>0.426847</td>\n",
       "      <td>0.573153</td>\n",
       "      <td>0.416143</td>\n",
       "      <td>0.583857</td>\n",
       "    </tr>\n",
       "    <tr>\n",
       "      <th>2</th>\n",
       "      <td>Arizona</td>\n",
       "      <td>295602.0</td>\n",
       "      <td>418642.0</td>\n",
       "      <td>529688.0</td>\n",
       "      <td>246843.0</td>\n",
       "      <td>681416.0</td>\n",
       "      <td>333854.0</td>\n",
       "      <td>702541.0</td>\n",
       "      <td>454029.0</td>\n",
       "      <td>543050.0</td>\n",
       "      <td>...</td>\n",
       "      <td>0.467174</td>\n",
       "      <td>0.532826</td>\n",
       "      <td>0.447250</td>\n",
       "      <td>0.552750</td>\n",
       "      <td>0.456861</td>\n",
       "      <td>0.543139</td>\n",
       "      <td>0.453866</td>\n",
       "      <td>0.546134</td>\n",
       "      <td>0.481100</td>\n",
       "      <td>0.518900</td>\n",
       "    </tr>\n",
       "    <tr>\n",
       "      <th>3</th>\n",
       "      <td>Arkansas</td>\n",
       "      <td>499614.0</td>\n",
       "      <td>268753.0</td>\n",
       "      <td>403164.0</td>\n",
       "      <td>398041.0</td>\n",
       "      <td>534774.0</td>\n",
       "      <td>338646.0</td>\n",
       "      <td>466578.0</td>\n",
       "      <td>349237.0</td>\n",
       "      <td>505823.0</td>\n",
       "      <td>...</td>\n",
       "      <td>0.471993</td>\n",
       "      <td>0.528007</td>\n",
       "      <td>0.450643</td>\n",
       "      <td>0.549357</td>\n",
       "      <td>0.398283</td>\n",
       "      <td>0.601717</td>\n",
       "      <td>0.378456</td>\n",
       "      <td>0.621544</td>\n",
       "      <td>0.357149</td>\n",
       "      <td>0.642851</td>\n",
       "    </tr>\n",
       "    <tr>\n",
       "      <th>4</th>\n",
       "      <td>California</td>\n",
       "      <td>3742284.0</td>\n",
       "      <td>3882244.0</td>\n",
       "      <td>4524858.0</td>\n",
       "      <td>3083661.0</td>\n",
       "      <td>5467009.0</td>\n",
       "      <td>3922519.0</td>\n",
       "      <td>5054917.0</td>\n",
       "      <td>4702233.0</td>\n",
       "      <td>5121325.0</td>\n",
       "      <td>...</td>\n",
       "      <td>0.562030</td>\n",
       "      <td>0.437970</td>\n",
       "      <td>0.550413</td>\n",
       "      <td>0.449587</td>\n",
       "      <td>0.622784</td>\n",
       "      <td>0.377216</td>\n",
       "      <td>0.618728</td>\n",
       "      <td>0.381272</td>\n",
       "      <td>0.661282</td>\n",
       "      <td>0.338718</td>\n",
       "    </tr>\n",
       "  </tbody>\n",
       "</table>\n",
       "<p>5 rows × 45 columns</p>\n",
       "</div>"
      ],
      "text/plain": [
       "        State      1976D      1976R      1980R      1980D      1984R  \\\n",
       "0     Alabama   659170.0   504070.0   654192.0   636730.0   872849.0   \n",
       "1      Alaska    44058.0    71555.0    86112.0    41842.0   138377.0   \n",
       "2     Arizona   295602.0   418642.0   529688.0   246843.0   681416.0   \n",
       "3    Arkansas   499614.0   268753.0   403164.0   398041.0   534774.0   \n",
       "4  California  3742284.0  3882244.0  4524858.0  3083661.0  5467009.0   \n",
       "\n",
       "       1984D      1988R      1988D      1992D    ...       2000D%    2000R%  \\\n",
       "0   551899.0   815576.0   549506.0   690080.0    ...     0.423931  0.576069   \n",
       "1    62007.0   119251.0    72584.0    78294.0    ...     0.320631  0.679369   \n",
       "2   333854.0   702541.0   454029.0   543050.0    ...     0.467174  0.532826   \n",
       "3   338646.0   466578.0   349237.0   505823.0    ...     0.471993  0.528007   \n",
       "4  3922519.0  5054917.0  4702233.0  5121325.0    ...     0.562030  0.437970   \n",
       "\n",
       "     2004D%    2004R%    2008D%    2008R%    2012D%    2012R%    2016D%  \\\n",
       "0  0.371022  0.628978  0.391091  0.608909  0.387838  0.612162  0.356259   \n",
       "1  0.367737  0.632263  0.389352  0.610648  0.426847  0.573153  0.416143   \n",
       "2  0.447250  0.552750  0.456861  0.543139  0.453866  0.546134  0.481100   \n",
       "3  0.450643  0.549357  0.398283  0.601717  0.378456  0.621544  0.357149   \n",
       "4  0.550413  0.449587  0.622784  0.377216  0.618728  0.381272  0.661282   \n",
       "\n",
       "     2016R%  \n",
       "0  0.643741  \n",
       "1  0.583857  \n",
       "2  0.518900  \n",
       "3  0.642851  \n",
       "4  0.338718  \n",
       "\n",
       "[5 rows x 45 columns]"
      ]
     },
     "execution_count": 4,
     "metadata": {},
     "output_type": "execute_result"
    }
   ],
   "source": [
    "for year in range(1976, 2020, 4):\n",
    "    totalVotes = indDataset[str(year)+\"D\"] + indDataset[str(year)+\"R\"]\n",
    "    indDataset[str(year)+'D%'] = indDataset[str(year)+\"D\"]/totalVotes\n",
    "    indDataset[str(year)+'R%'] = indDataset[str(year)+\"R\"]/totalVotes\n",
    "\n",
    "indDataset.head()  "
   ]
  },
  {
   "cell_type": "code",
   "execution_count": 5,
   "metadata": {
    "scrolled": true
   },
   "outputs": [
    {
     "data": {
      "text/html": [
       "<div>\n",
       "<style>\n",
       "    .dataframe thead tr:only-child th {\n",
       "        text-align: right;\n",
       "    }\n",
       "\n",
       "    .dataframe thead th {\n",
       "        text-align: left;\n",
       "    }\n",
       "\n",
       "    .dataframe tbody tr th {\n",
       "        vertical-align: top;\n",
       "    }\n",
       "</style>\n",
       "<table border=\"1\" class=\"dataframe\">\n",
       "  <thead>\n",
       "    <tr style=\"text-align: right;\">\n",
       "      <th></th>\n",
       "      <th>State</th>\n",
       "      <th>1976D</th>\n",
       "      <th>1976R</th>\n",
       "      <th>1980R</th>\n",
       "      <th>1980D</th>\n",
       "      <th>1984R</th>\n",
       "      <th>1984D</th>\n",
       "      <th>1988R</th>\n",
       "      <th>1988D</th>\n",
       "      <th>1992D</th>\n",
       "      <th>...</th>\n",
       "      <th>Partisan Lean 1980</th>\n",
       "      <th>Partisan Lean 1984</th>\n",
       "      <th>Partisan Lean 1988</th>\n",
       "      <th>Partisan Lean 1992</th>\n",
       "      <th>Partisan Lean 1996</th>\n",
       "      <th>Partisan Lean 2000</th>\n",
       "      <th>Partisan Lean 2004</th>\n",
       "      <th>Partisan Lean 2008</th>\n",
       "      <th>Partisan Lean 2012</th>\n",
       "      <th>Partisan Lean 2016</th>\n",
       "    </tr>\n",
       "  </thead>\n",
       "  <tbody>\n",
       "    <tr>\n",
       "      <th>0</th>\n",
       "      <td>Alabama</td>\n",
       "      <td>659170.0</td>\n",
       "      <td>504070.0</td>\n",
       "      <td>654192.0</td>\n",
       "      <td>636730.0</td>\n",
       "      <td>872849.0</td>\n",
       "      <td>551899.0</td>\n",
       "      <td>815576.0</td>\n",
       "      <td>549506.0</td>\n",
       "      <td>690080.0</td>\n",
       "      <td>...</td>\n",
       "      <td>0.046290</td>\n",
       "      <td>-0.020938</td>\n",
       "      <td>-0.058440</td>\n",
       "      <td>-0.072760</td>\n",
       "      <td>-0.084691</td>\n",
       "      <td>-0.078750</td>\n",
       "      <td>-0.116538</td>\n",
       "      <td>-0.145798</td>\n",
       "      <td>-0.131801</td>\n",
       "      <td>-0.154874</td>\n",
       "    </tr>\n",
       "    <tr>\n",
       "      <th>1</th>\n",
       "      <td>Alaska</td>\n",
       "      <td>44058.0</td>\n",
       "      <td>71555.0</td>\n",
       "      <td>86112.0</td>\n",
       "      <td>41842.0</td>\n",
       "      <td>138377.0</td>\n",
       "      <td>62007.0</td>\n",
       "      <td>119251.0</td>\n",
       "      <td>72584.0</td>\n",
       "      <td>78294.0</td>\n",
       "      <td>...</td>\n",
       "      <td>-0.119938</td>\n",
       "      <td>-0.098863</td>\n",
       "      <td>-0.082618</td>\n",
       "      <td>-0.100292</td>\n",
       "      <td>-0.151638</td>\n",
       "      <td>-0.182050</td>\n",
       "      <td>-0.119823</td>\n",
       "      <td>-0.147536</td>\n",
       "      <td>-0.092792</td>\n",
       "      <td>-0.094989</td>\n",
       "    </tr>\n",
       "    <tr>\n",
       "      <th>2</th>\n",
       "      <td>Arizona</td>\n",
       "      <td>295602.0</td>\n",
       "      <td>418642.0</td>\n",
       "      <td>529688.0</td>\n",
       "      <td>246843.0</td>\n",
       "      <td>681416.0</td>\n",
       "      <td>333854.0</td>\n",
       "      <td>702541.0</td>\n",
       "      <td>454029.0</td>\n",
       "      <td>543050.0</td>\n",
       "      <td>...</td>\n",
       "      <td>-0.129067</td>\n",
       "      <td>-0.079471</td>\n",
       "      <td>-0.068419</td>\n",
       "      <td>-0.047568</td>\n",
       "      <td>-0.035115</td>\n",
       "      <td>-0.035506</td>\n",
       "      <td>-0.040310</td>\n",
       "      <td>-0.080027</td>\n",
       "      <td>-0.065772</td>\n",
       "      <td>-0.030033</td>\n",
       "    </tr>\n",
       "    <tr>\n",
       "      <th>3</th>\n",
       "      <td>Arkansas</td>\n",
       "      <td>499614.0</td>\n",
       "      <td>268753.0</td>\n",
       "      <td>403164.0</td>\n",
       "      <td>398041.0</td>\n",
       "      <td>534774.0</td>\n",
       "      <td>338646.0</td>\n",
       "      <td>466578.0</td>\n",
       "      <td>349237.0</td>\n",
       "      <td>505823.0</td>\n",
       "      <td>...</td>\n",
       "      <td>0.049856</td>\n",
       "      <td>-0.020580</td>\n",
       "      <td>-0.032901</td>\n",
       "      <td>0.065373</td>\n",
       "      <td>0.046176</td>\n",
       "      <td>-0.030687</td>\n",
       "      <td>-0.036918</td>\n",
       "      <td>-0.138606</td>\n",
       "      <td>-0.141183</td>\n",
       "      <td>-0.153984</td>\n",
       "    </tr>\n",
       "    <tr>\n",
       "      <th>4</th>\n",
       "      <td>California</td>\n",
       "      <td>3742284.0</td>\n",
       "      <td>3882244.0</td>\n",
       "      <td>4524858.0</td>\n",
       "      <td>3083661.0</td>\n",
       "      <td>5467009.0</td>\n",
       "      <td>3922519.0</td>\n",
       "      <td>5054917.0</td>\n",
       "      <td>4702233.0</td>\n",
       "      <td>5121325.0</td>\n",
       "      <td>...</td>\n",
       "      <td>-0.041656</td>\n",
       "      <td>0.009451</td>\n",
       "      <td>0.020942</td>\n",
       "      <td>0.050618</td>\n",
       "      <td>0.024810</td>\n",
       "      <td>0.059349</td>\n",
       "      <td>0.062853</td>\n",
       "      <td>0.085896</td>\n",
       "      <td>0.099089</td>\n",
       "      <td>0.150149</td>\n",
       "    </tr>\n",
       "  </tbody>\n",
       "</table>\n",
       "<p>5 rows × 56 columns</p>\n",
       "</div>"
      ],
      "text/plain": [
       "        State      1976D      1976R      1980R      1980D      1984R  \\\n",
       "0     Alabama   659170.0   504070.0   654192.0   636730.0   872849.0   \n",
       "1      Alaska    44058.0    71555.0    86112.0    41842.0   138377.0   \n",
       "2     Arizona   295602.0   418642.0   529688.0   246843.0   681416.0   \n",
       "3    Arkansas   499614.0   268753.0   403164.0   398041.0   534774.0   \n",
       "4  California  3742284.0  3882244.0  4524858.0  3083661.0  5467009.0   \n",
       "\n",
       "       1984D      1988R      1988D      1992D         ...          \\\n",
       "0   551899.0   815576.0   549506.0   690080.0         ...           \n",
       "1    62007.0   119251.0    72584.0    78294.0         ...           \n",
       "2   333854.0   702541.0   454029.0   543050.0         ...           \n",
       "3   338646.0   466578.0   349237.0   505823.0         ...           \n",
       "4  3922519.0  5054917.0  4702233.0  5121325.0         ...           \n",
       "\n",
       "   Partisan Lean 1980  Partisan Lean 1984  Partisan Lean 1988  \\\n",
       "0            0.046290           -0.020938           -0.058440   \n",
       "1           -0.119938           -0.098863           -0.082618   \n",
       "2           -0.129067           -0.079471           -0.068419   \n",
       "3            0.049856           -0.020580           -0.032901   \n",
       "4           -0.041656            0.009451            0.020942   \n",
       "\n",
       "   Partisan Lean 1992  Partisan Lean 1996  Partisan Lean 2000  \\\n",
       "0           -0.072760           -0.084691           -0.078750   \n",
       "1           -0.100292           -0.151638           -0.182050   \n",
       "2           -0.047568           -0.035115           -0.035506   \n",
       "3            0.065373            0.046176           -0.030687   \n",
       "4            0.050618            0.024810            0.059349   \n",
       "\n",
       "   Partisan Lean 2004  Partisan Lean 2008  Partisan Lean 2012  \\\n",
       "0           -0.116538           -0.145798           -0.131801   \n",
       "1           -0.119823           -0.147536           -0.092792   \n",
       "2           -0.040310           -0.080027           -0.065772   \n",
       "3           -0.036918           -0.138606           -0.141183   \n",
       "4            0.062853            0.085896            0.099089   \n",
       "\n",
       "   Partisan Lean 2016  \n",
       "0           -0.154874  \n",
       "1           -0.094989  \n",
       "2           -0.030033  \n",
       "3           -0.153984  \n",
       "4            0.150149  \n",
       "\n",
       "[5 rows x 56 columns]"
      ]
     },
     "execution_count": 5,
     "metadata": {},
     "output_type": "execute_result"
    }
   ],
   "source": [
    "#Computing partisan lean for each state for each election year\n",
    "for year in range(1976, 2020, 4):\n",
    "    realPercentage = indDataset.iloc[51][str(year)+'D%']\n",
    "    indDataset['Partisan Lean '+str(year)] = indDataset[str(year)+'D%'] - realPercentage\n",
    "\n",
    "indDataset.head()  "
   ]
  },
  {
   "cell_type": "markdown",
   "metadata": {},
   "source": [
    "Now that we have all the partisan lean metrics computed, lets create an interactive widget to display the partisan lean for each\n",
    "state from 1976 to 2016. To do this, we will filter the dataset to get rid of the Total Value row. Then \n",
    "we will create a json file to contain all of the geometries for the US states."
   ]
  },
  {
   "cell_type": "code",
   "execution_count": 6,
   "metadata": {
    "collapsed": true
   },
   "outputs": [],
   "source": [
    "state_geo = r'us-states.json'\n",
    "indDataset = indDataset[indDataset.State != 'Total Value']"
   ]
  },
  {
   "cell_type": "markdown",
   "metadata": {},
   "source": [
    "The function constructMap contains code to create a choropleth map of the partisan lean for each state. It then will\n",
    "return the map. We can use the interact function along with a slider widget to let the user slide and see how the partisan lean changes from election year to election year."
   ]
  },
  {
   "cell_type": "code",
   "execution_count": 49,
   "metadata": {
    "collapsed": true
   },
   "outputs": [],
   "source": [
    "def constructMap(year):    \n",
    "    foliumMap = folium.Map(location=[48, -102], zoom_start=3)\n",
    "    yearCol = 'Partisan Lean ' + str(year)\n",
    "    legendCol ='Partisan Lean ' + str(year)\n",
    "    foliumMap.choropleth(geo_path=state_geo, data=indDataset,\n",
    "             columns=['State', yearCol],\n",
    "             key_on='feature.properties.name', threshold_scale=[-.10, -.05, 0, .05, .10],\n",
    "             fill_color='RdBu', fill_opacity=0.7, line_opacity=0.2,\n",
    "             legend_name=legendCol)\n",
    "    return foliumMap"
   ]
  },
  {
   "cell_type": "code",
   "execution_count": 50,
   "metadata": {},
   "outputs": [
    {
     "data": {
      "application/vnd.jupyter.widget-view+json": {
       "model_id": "7b98901796354721b191f5aa881d457e"
      }
     },
     "metadata": {},
     "output_type": "display_data"
    }
   ],
   "source": [
    "slider = widgets.IntSlider(value=1976, min=1976, max=2016, step=4)\n",
    "interact(constructMap, year=slider)\n",
    "None"
   ]
  },
  {
   "cell_type": "markdown",
   "metadata": {},
   "source": [
    "Feel free to play around with this widget and see what trends you notice! Regions of interest include the Northeast\n",
    "and the Southeast."
   ]
  },
  {
   "cell_type": "code",
   "execution_count": 10,
   "metadata": {},
   "outputs": [
    {
     "data": {
      "text/plain": [
       "array(['State', '1976D', '1976R', '1980R', '1980D', '1984R', '1984D',\n",
       "       '1988R', '1988D', '1992D', '1992R', '1996D', '1996R', '2000R',\n",
       "       '2000D', '2004R', '2004D', '2008D', '2008R', '2012D', '2012R',\n",
       "       '2016D', '2016R', '1976D%', '1976R%', '1980D%', '1980R%', '1984D%',\n",
       "       '1984R%', '1988D%', '1988R%', '1992D%', '1992R%', '1996D%',\n",
       "       '1996R%', '2000D%', '2000R%', '2004D%', '2004R%', '2008D%',\n",
       "       '2008R%', '2012D%', '2012R%', '2016D%', '2016R%',\n",
       "       'Partisan Lean 1976', 'Partisan Lean 1980', 'Partisan Lean 1984',\n",
       "       'Partisan Lean 1988', 'Partisan Lean 1992', 'Partisan Lean 1996',\n",
       "       'Partisan Lean 2000', 'Partisan Lean 2004', 'Partisan Lean 2008',\n",
       "       'Partisan Lean 2012', 'Partisan Lean 2016'], dtype=object)"
      ]
     },
     "execution_count": 10,
     "metadata": {},
     "output_type": "execute_result"
    }
   ],
   "source": [
    "indDataset.columns.values"
   ]
  },
  {
   "cell_type": "markdown",
   "metadata": {},
   "source": [
    "Lets do some linear/logistic regressions on the trends from 2000 to 2016, and calculate the partisan lean of each state that way."
   ]
  },
  {
   "cell_type": "code",
   "execution_count": 31,
   "metadata": {},
   "outputs": [
    {
     "name": "stdout",
     "output_type": "stream",
     "text": [
      "51\n",
      "Average R Squared: 0.46945152595\n"
     ]
    }
   ],
   "source": [
    "stateNum = 0\n",
    "averageRSquared = 0.0\n",
    "for state in indDataset['State']:\n",
    "    yearX = []\n",
    "    yearY = []\n",
    "    i = 1\n",
    "    for year in range(2000, 2020, 4):\n",
    "        yearX.append(i)\n",
    "        yearY.append(indDataset.iloc[stateNum]['Partisan Lean ' + str(year)])\n",
    "        i += 1\n",
    "    \n",
    "    slope, intercept, r_value, p_value, std_err = stats.linregress(yearX, yearY)\n",
    "    averageRSquared += r_value**2\n",
    "    stateNum += 1\n",
    "    \n",
    "averageRSquared /= 51.0  \n",
    "print(stateNum)\n",
    "print(\"Average R Squared: \" + str(averageRSquared))   "
   ]
  },
  {
   "cell_type": "code",
   "execution_count": 53,
   "metadata": {},
   "outputs": [
    {
     "ename": "SyntaxError",
     "evalue": "invalid syntax (<ipython-input-53-2df50632ab97>, line 16)",
     "output_type": "error",
     "traceback": [
      "\u001b[0;36m  File \u001b[0;32m\"<ipython-input-53-2df50632ab97>\"\u001b[0;36m, line \u001b[0;32m16\u001b[0m\n\u001b[0;31m    popt, pcov = = curve_fit(func, yearX, yearY)\u001b[0m\n\u001b[0m                 ^\u001b[0m\n\u001b[0;31mSyntaxError\u001b[0m\u001b[0;31m:\u001b[0m invalid syntax\n"
     ]
    }
   ],
   "source": [
    "stateNum = 0\n",
    "averageRSquared = 0.0\n",
    "\n",
    "def func(x, a, b, c):\n",
    "    return (x/(c+np.exp(-b*x)))\n",
    "\n",
    "for state in indDataset['State']:\n",
    "    yearX = []\n",
    "    yearY = []\n",
    "    i = 1\n",
    "    for year in range(2000, 2020, 4):\n",
    "        yearX.append(i)\n",
    "        yearY.append(indDataset.iloc[stateNum]['Partisan Lean ' + str(year)])\n",
    "        i += 1\n",
    "    \n",
    "    popt, pcov = curve_fit(func, yearX, yearY)\n",
    "    residuals = yearY - f(yearX, popt)\n",
    "    ss_res = numpy.sum(residuals**2)\n",
    "    \n",
    "    ss_tot = numpy.sum((ydata-numpy.mean(ydata))**2)\n",
    "    r_squared = 1 - (ss_res / ss_tot)\n",
    "\n",
    "    averageRSquared += r_squared\n",
    "    stateNum += 1\n",
    "    \n",
    "averageRSquared /= 51.0  \n",
    "print(stateNum)\n",
    "print(\"Average R Squared: \" + str(averageRSquared))  "
   ]
  },
  {
   "cell_type": "code",
   "execution_count": null,
   "metadata": {
    "collapsed": true
   },
   "outputs": [],
   "source": []
  }
 ],
 "metadata": {
  "kernelspec": {
   "display_name": "Python 3",
   "language": "python",
   "name": "python3"
  },
  "language_info": {
   "codemirror_mode": {
    "name": "ipython",
    "version": 3
   },
   "file_extension": ".py",
   "mimetype": "text/x-python",
   "name": "python",
   "nbconvert_exporter": "python",
   "pygments_lexer": "ipython3",
   "version": "3.6.1"
  },
  "widgets": {
   "application/vnd.jupyter.widget-state+json": {
    "state": {
     "07538cc59fa04a2e80ba0bb88e91eee7": {
      "model_module": "jupyter-js-widgets",
      "model_module_version": "~2.1.4",
      "model_name": "LayoutModel",
      "state": {
       "_model_module_version": "~2.1.4",
       "_view_module_version": "~2.1.4"
      }
     },
     "098dde0a987743feae1bd3bd217b0a6c": {
      "model_module": "jupyter-js-widgets",
      "model_module_version": "~2.1.4",
      "model_name": "LayoutModel",
      "state": {
       "_model_module_version": "~2.1.4",
       "_view_module_version": "~2.1.4"
      }
     },
     "13fc0e3e2f0f441cb51ac48df7a737fe": {
      "model_module": "jupyter-js-widgets",
      "model_module_version": "~2.1.4",
      "model_name": "IntSliderModel",
      "state": {
       "_model_module_version": "~2.1.4",
       "_view_module_version": "~2.1.4",
       "description": "year",
       "layout": "IPY_MODEL_098dde0a987743feae1bd3bd217b0a6c",
       "max": 2016,
       "min": 1976,
       "step": 4,
       "style": "IPY_MODEL_15ddb110d29941d182ecac8079521f85",
       "value": 2016
      }
     },
     "15ddb110d29941d182ecac8079521f85": {
      "model_module": "jupyter-js-widgets",
      "model_module_version": "~2.1.4",
      "model_name": "SliderStyleModel",
      "state": {
       "_model_module_version": "~2.1.4",
       "_view_module_version": "~2.1.4"
      }
     },
     "2de800a1900d4372b1d16d7a0b02b50d": {
      "model_module": "jupyter-js-widgets",
      "model_module_version": "~2.1.4",
      "model_name": "LayoutModel",
      "state": {
       "_model_module_version": "~2.1.4",
       "_view_module_version": "~2.1.4"
      }
     },
     "301bd8e85f81499dac41eab75380f500": {
      "model_module": "jupyter-js-widgets",
      "model_module_version": "~2.1.4",
      "model_name": "OutputModel",
      "state": {
       "_dom_classes": [],
       "_model_module": "jupyter-js-widgets",
       "_model_module_version": "~2.1.4",
       "_view_module": "jupyter-js-widgets",
       "_view_module_version": "~2.1.4",
       "layout": "IPY_MODEL_07538cc59fa04a2e80ba0bb88e91eee7",
       "msg_throttle": 1
      }
     },
     "6057002170ce4300a4a90bbc05e99b25": {
      "model_module": "jupyter-js-widgets",
      "model_module_version": "~2.1.4",
      "model_name": "LayoutModel",
      "state": {
       "_model_module_version": "~2.1.4",
       "_view_module_version": "~2.1.4"
      }
     },
     "700a7b380f84418fb3eab805b237b6ff": {
      "model_module": "jupyter-js-widgets",
      "model_module_version": "~2.1.4",
      "model_name": "SliderStyleModel",
      "state": {
       "_model_module_version": "~2.1.4",
       "_view_module_version": "~2.1.4"
      }
     },
     "882901fe07dd43d3a4594c41ab956faa": {
      "model_module": "jupyter-js-widgets",
      "model_module_version": "~2.1.4",
      "model_name": "IntSliderModel",
      "state": {
       "_model_module_version": "~2.1.4",
       "_view_module_version": "~2.1.4",
       "description": "year",
       "layout": "IPY_MODEL_6057002170ce4300a4a90bbc05e99b25",
       "max": 2016,
       "min": 1976,
       "step": 4,
       "style": "IPY_MODEL_700a7b380f84418fb3eab805b237b6ff",
       "value": 1976
      }
     },
     "a433b6bfb2254efbb9e1c3da33f47c8a": {
      "model_module": "jupyter-js-widgets",
      "model_module_version": "~2.1.4",
      "model_name": "LayoutModel",
      "state": {
       "_model_module_version": "~2.1.4",
       "_view_module_version": "~2.1.4"
      }
     },
     "b9f7a45cd4ed4281b042083bed20a347": {
      "model_module": "jupyter-js-widgets",
      "model_module_version": "~2.1.4",
      "model_name": "OutputModel",
      "state": {
       "_dom_classes": [],
       "_model_module": "jupyter-js-widgets",
       "_model_module_version": "~2.1.4",
       "_view_module": "jupyter-js-widgets",
       "_view_module_version": "~2.1.4",
       "layout": "IPY_MODEL_d02f1cae9d1f475298f6e44190aebee8",
       "msg_throttle": 1
      }
     },
     "cccdeb81dd0c4fe0babd3d0c4edc6e38": {
      "model_module": "jupyter-js-widgets",
      "model_module_version": "~2.1.4",
      "model_name": "VBoxModel",
      "state": {
       "_dom_classes": [
        "widget-interact"
       ],
       "_model_module_version": "~2.1.4",
       "_view_module_version": "~2.1.4",
       "children": [
        "IPY_MODEL_13fc0e3e2f0f441cb51ac48df7a737fe",
        "IPY_MODEL_b9f7a45cd4ed4281b042083bed20a347"
       ],
       "layout": "IPY_MODEL_a433b6bfb2254efbb9e1c3da33f47c8a"
      }
     },
     "d02f1cae9d1f475298f6e44190aebee8": {
      "model_module": "jupyter-js-widgets",
      "model_module_version": "~2.1.4",
      "model_name": "LayoutModel",
      "state": {
       "_model_module_version": "~2.1.4",
       "_view_module_version": "~2.1.4"
      }
     },
     "fb534543b7424ffa87860a943c7cbb1d": {
      "model_module": "jupyter-js-widgets",
      "model_module_version": "~2.1.4",
      "model_name": "VBoxModel",
      "state": {
       "_dom_classes": [
        "widget-interact"
       ],
       "_model_module_version": "~2.1.4",
       "_view_module_version": "~2.1.4",
       "children": [
        "IPY_MODEL_882901fe07dd43d3a4594c41ab956faa",
        "IPY_MODEL_301bd8e85f81499dac41eab75380f500"
       ],
       "layout": "IPY_MODEL_2de800a1900d4372b1d16d7a0b02b50d"
      }
     }
    },
    "version_major": 1,
    "version_minor": 0
   }
  }
 },
 "nbformat": 4,
 "nbformat_minor": 2
}
