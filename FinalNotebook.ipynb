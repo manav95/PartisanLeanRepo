{
 "cells": [
  {
   "cell_type": "code",
   "execution_count": 2,
   "metadata": {},
   "outputs": [
    {
     "name": "stderr",
     "output_type": "stream",
     "text": [
      "/Users/manavdutta1/anaconda/lib/python3.6/site-packages/statsmodels/compat/pandas.py:56: FutureWarning: The pandas.core.datetools module is deprecated and will be removed in a future version. Please use the pandas.tseries module instead.\n",
      "  from pandas.core import datetools\n"
     ]
    }
   ],
   "source": [
    "import scipy.stats\n",
    "import matplotlib.pyplot as plt\n",
    "import copy\n",
    "from sklearn import linear_model\n",
    "\n",
    "import matplotlib\n",
    "from scipy import stats\n",
    "from scipy.optimize import curve_fit\n",
    "from ipywidgets import interact, interactive, fixed\n",
    "import ipywidgets as widgets\n",
    "import seaborn as sns\n",
    "import json\n",
    "import statsmodels.api as sm\n",
    "\n",
    "import pandas as pd\n",
    "import numpy as np\n",
    "import folium\n",
    "from folium.features import DivIcon\n",
    "import requests\n",
    "from bs4 import BeautifulSoup\n",
    "import re\n",
    "\n",
    "%matplotlib inline"
   ]
  },
  {
   "cell_type": "code",
   "execution_count": 3,
   "metadata": {
    "scrolled": true
   },
   "outputs": [
    {
     "name": "stdout",
     "output_type": "stream",
     "text": [
      "Requirement already satisfied: squarify in /Users/manavdutta1/anaconda/lib/python3.6/site-packages\r\n"
     ]
    }
   ],
   "source": [
    "import sys\n",
    "!{sys.executable} -m pip install squarify"
   ]
  },
  {
   "cell_type": "code",
   "execution_count": 4,
   "metadata": {},
   "outputs": [],
   "source": [
    "#existing data\n",
    "floridaFrame = pd.read_csv('FloridaResults.csv')\n",
    "floridaCounties = [\"Alachua\",\"Baker\",\"Bay\",\"Bradford\",\"Brevard\",\"Broward\",\"Calhoun\",\"Charlotte\",\"Citrus\",\"Clay\",\"Collier\",\"Columbia\",\"DeSoto\",\"Dixie\",\"Duval\",\"Escambia\",\"Flagler\",\"Franklin\",\"Gadsden\",\"Gilchrist\",\"Glades\",\"Gulf\",\"Hamilton\",\"Hardee\",\"Hendry\",\"Hernando\",\"Highlands\",\"Hillsborough\",\"Holmes\",\"Indian River\",\"Jackson\",\"Jefferson\",\"Lafayette\",\"Lake\",\"Lee\",\"Leon\",\"Levy\",\"Liberty\",\"Madison\",\"Manatee\",\"Marion\",\"Martin\",\"Miami-Dade\",\"Monroe\",\"Nassau\",\"Okaloosa\",\"Okeechobee\",\"Orange\",\"Osceola\",\"Palm Beach\",\"Pasco\",\"Pinellas\",\"Polk\",\"Putnam\",\"Santa Rosa\",\"Sarasota\",\"Seminole\",\"St. Johns\",\"St. Lucie\",\"Sumter\",\"Suwannee\",\"Taylor\",\"Union\",\"Volusia\",\"Wakulla\",\"Walton\",\"Washington\"]"
   ]
  },
  {
   "cell_type": "code",
   "execution_count": null,
   "metadata": {
    "collapsed": true
   },
   "outputs": [],
   "source": [
    "#lets compute centroids of counties"
   ]
  },
  {
   "cell_type": "code",
   "execution_count": 5,
   "metadata": {
    "collapsed": true
   },
   "outputs": [],
   "source": [
    "def centeroidnp(arr):\n",
    "    length = arr.shape[0]\n",
    "    sum_x = np.sum(arr[:, 0])\n",
    "    sum_y = np.sum(arr[:, 1])\n",
    "    return sum_x/length, sum_y/length"
   ]
  },
  {
   "cell_type": "code",
   "execution_count": 6,
   "metadata": {
    "collapsed": true
   },
   "outputs": [],
   "source": [
    "counties = pd.read_json('us-counties.json')\n",
    "floridacounties = []\n",
    "floridaPoints = []\n",
    "for i in range(len(counties['features'])):\n",
    "    county = counties.iloc[i]['features']\n",
    "    name = county[\"properties\"][\"name\"]\n",
    "    name = name.strip()\n",
    "    if(county[\"id\"][0:2] == \"12\"):\n",
    "         floridacounties.append(county)\n",
    "         floridaPoints.append(county[\"geometry\"][\"coordinates\"][0])\n",
    "jsonDict = {\"type\": \"FeatureCollection\", \"features\": floridacounties}\n",
    "with open('fl-counties.json', 'w') as outfile:  \n",
    "    json.dump(jsonDict, outfile)"
   ]
  },
  {
   "cell_type": "raw",
   "metadata": {},
   "source": [
    "def constructTreemapForYear(year, df):    \n",
    "    cmap = matplotlib.cm.RdBu\n",
    "    dfSorted = df.sort_values(str(year)+\"Total\", ascending=False)\n",
    "    mini=min(df['Partisan Lean '+str(year)])\n",
    "    maxi=max(df['Partisan Lean '+str(year)])\n",
    "    norm = matplotlib.colors.Normalize(vmin=-1, vmax=1)\n",
    "    colors = [cmap(norm(value)) for value in dfSorted['Partisan Lean '+str(year)]]\n",
    "    \n",
    "    plt.rc('font', size=22)\n",
    "    squarify.plot(sizes=dfSorted[str(year)+\"Total\"], label=dfSorted['counties'], alpha=0.8, color=colors )\n",
    "    plt.axis('off')\n",
    "    fig = plt.gcf()\n",
    "    fig.set_size_inches(20, 16)\n",
    "    plt.show()"
   ]
  },
  {
   "cell_type": "code",
   "execution_count": 32,
   "metadata": {
    "collapsed": true
   },
   "outputs": [],
   "source": [
    "#construct map of florida partisan leans for election years\n",
    "def constructMap(df, year):    \n",
    "    foliumMap = folium.Map(location=(28, -81), zoom_start=6)\n",
    "    yearCol = \"Partisan Lean \" + str(year)\n",
    "    legendCol = \"Partisan Lean \" + str(year)\n",
    "    foliumMap.choropleth(geo_data=geo, data=df,\n",
    "             columns=['counties', yearCol],\n",
    "             key_on='feature.properties.name', threshold_scale=[-.10, -.05, 0, .05, .10],\n",
    "             fill_color='RdBu', fill_opacity=0.7, line_opacity=0.2,\n",
    "             legend_name=legendCol)\n",
    "    a = 0\n",
    "    for county in df['counties']:\n",
    "        latitude = None\n",
    "        longitude = None\n",
    "        longitude, latitude = centeroidnp(np.array(floridaPoints[a]))\n",
    "        folium.features.Marker(location=[latitude, longitude], icon=DivIcon(\n",
    "        icon_size=(10,8),\n",
    "        icon_anchor=(0,0),\n",
    "        html='<div style=\"font-size: 6pt\">'+ county + '</div>')).add_to(foliumMap)\n",
    "        a += 1\n",
    "    return foliumMap"
   ]
  },
  {
   "cell_type": "code",
   "execution_count": 33,
   "metadata": {},
   "outputs": [
    {
     "data": {
      "application/vnd.jupyter.widget-view+json": {
       "model_id": "7ab2847287424838bf716680aa1b351b"
      }
     },
     "metadata": {},
     "output_type": "display_data"
    }
   ],
   "source": [
    "geo = r'fl-counties.json'\n",
    "slider = widgets.IntSlider(value=1976, min=1976, max=2016, step=4)\n",
    "dfSlider = widgets.Select(options=list(floridaFrame))\n",
    "interact(constructMap, df=dfSlider, year=slider)\n",
    "dfSlider.close()\n",
    "None"
   ]
  },
  {
   "cell_type": "code",
   "execution_count": null,
   "metadata": {
    "collapsed": true
   },
   "outputs": [],
   "source": [
    "def constructTreemapForYear(year, df):    \n",
    "    cmap = matplotlib.cm.RdBu\n",
    "    dfSorted = df.sort_values(str(year)+\"Total\", ascending=False)\n",
    "    mini=min(dfSorted['Partisan Lean '+str(year)])\n",
    "    maxi=max(dfSorted['Partisan Lean '+str(year)])\n",
    "    norm = matplotlib.colors.Normalize(vmin=-1, vmax=1)\n",
    "    colors = [cmap(norm(value)) for value in dfSorted['Partisan Lean '+str(year)]]\n",
    "    \n",
    "    plt.rc('font', size=22)\n",
    "    squarify.plot(sizes=dfSorted[str(year)+\"Total\"], label=dfSorted['counties'], alpha=0.8, color=colors )\n",
    "    plt.axis('off')\n",
    "    fig = plt.gcf()\n",
    "    fig.set_size_inches(20, 16)\n",
    "    plt.show()"
   ]
  },
  {
   "cell_type": "code",
   "execution_count": null,
   "metadata": {
    "collapsed": true
   },
   "outputs": [],
   "source": [
    "slider = widgets.IntSlider(value=1976, min=1976, max=2016, step=4)\n",
    "dfSlider = widgets.Select(options=list(floridaFrame))\n",
    "interact(constructTreemapForYear, year=slider, df=dfSlider)\n",
    "dfSlider.close()\n",
    "None"
   ]
  },
  {
   "cell_type": "code",
   "execution_count": null,
   "metadata": {
    "collapsed": true
   },
   "outputs": [],
   "source": [
    "def plotSums(df):\n",
    "    demCountiesSums = []\n",
    "    repCountiesSums = []\n",
    "    demAverageLean = []\n",
    "    repAverageLean = []\n",
    "    years = list(range(1976, 2020, 4))\n",
    "    for year in years:\n",
    "        demList = []\n",
    "        repList = []\n",
    "        for county in df['Partisan Lean ' + str(year)]:\n",
    "          if (county > 0):\n",
    "             demList.append(county)\n",
    "          else:\n",
    "             repList.append(county) \n",
    "        \n",
    "    demCountiesSums.append(len(demList))\n",
    "    repCountiesSums.append(len(repList))\n",
    "    demAverageLean.append((sum(demList)*1.0)/len(demList))\n",
    "    repAverageLean.append((sum(repList)*1.0)/len(repList))\n",
    "    sumDataframe = pd.DataFrame({'year': years, 'demList': demCountiesSums, 'repList': repCountiesSums})\n",
    "    f, ax = plt.subplots(1, 1)\n",
    "    sns.pointplot(x=\"year\", y=\"demList\", data=sumDataframe, color='blue')\n",
    "    sns.pointplot(x=\"year\", y=\"repList\", data=sumDataframe, color='red')\n",
    "    ax.set_xlabel(\"Year\")\n",
    "    ax.set_ylabel(\"Number of counties\")\n",
    "    ax.set_yticks(list(range(0, 70, 5)))"
   ]
  },
  {
   "cell_type": "code",
   "execution_count": null,
   "metadata": {
    "collapsed": true
   },
   "outputs": [],
   "source": [
    "def plotLeans(df):\n",
    "    demAverageLean = []\n",
    "    repAverageLean = []\n",
    "    years = list(range(1976, 2020, 4))\n",
    "    for year in years:\n",
    "    demList = []\n",
    "    repList = []\n",
    "    for county in floridaResults['Partisan Lean ' + str(year)]:\n",
    "        if (county > 0):\n",
    "           demList.append(county)\n",
    "        else:\n",
    "           repList.append(county) \n",
    "    demAverageLean.append((sum(demList)*1.0)/len(demList))\n",
    "    repAverageLean.append((sum(repList)*1.0)/len(repList))\n",
    "    leanDF = pd.DataFrame({'year': years, 'demList': demAverageLean, 'repList': repAverageLean})\n",
    "    f, ax = plt.subplots(1, 1)\n",
    "    sns.pointplot(x=\"year\", y=\"demList\", data=leanDF, color='blue')\n",
    "    sns.pointplot(x=\"year\", y=\"repList\", data=leanDF, color='red')\n",
    "    ax.set_xlabel(\"Year\")\n",
    "    ax.set_ylabel(\"Partisan Lean\")\n",
    "\n",
    "    yList = [-.2]\n",
    "    s = -.20\n",
    "    for a in range(20):\n",
    "        s += .02\n",
    "        yList.append(s)\n",
    "    \n",
    "    ax.set_yticks(yList)"
   ]
  },
  {
   "cell_type": "code",
   "execution_count": null,
   "metadata": {
    "collapsed": true
   },
   "outputs": [],
   "source": [
    "def func(x, a, b):\n",
    "    return a*np.log(x) + b"
   ]
  },
  {
   "cell_type": "code",
   "execution_count": null,
   "metadata": {
    "collapsed": true
   },
   "outputs": [],
   "source": [
    "def extendedMap(df):\n",
    "    for i in range(0, len(df)):\n",
    "        partisans = []\n",
    "        for year in range(1988, 2020, 4):\n",
    "            partisans.append(df.get_value(i, 'Partisan Lean ' + str(year)))\n",
    "        \n",
    "        popt, pcov = curve_fit(func, list(range(1988, 2020, 4)), partisans, maxfev=10000)\n",
    "    \n",
    "        for year in range(2020, 2044, 4):\n",
    "            value = func(year, *popt)\n",
    "            df.set_value(i, 'Partisan Lean '+str(year), value)"
   ]
  },
  {
   "cell_type": "code",
   "execution_count": null,
   "metadata": {
    "collapsed": true
   },
   "outputs": [],
   "source": [
    "slider = widgets.IntSlider(value=1976, min=1976, max=2040, step=4)\n",
    "interact(extendedMap, year=slider)\n",
    "None"
   ]
  }
 ],
 "metadata": {
  "kernelspec": {
   "display_name": "Python 3",
   "language": "python",
   "name": "python3"
  },
  "language_info": {
   "codemirror_mode": {
    "name": "ipython",
    "version": 3
   },
   "file_extension": ".py",
   "mimetype": "text/x-python",
   "name": "python",
   "nbconvert_exporter": "python",
   "pygments_lexer": "ipython3",
   "version": "3.6.1"
  }
 },
 "nbformat": 4,
 "nbformat_minor": 2
}
