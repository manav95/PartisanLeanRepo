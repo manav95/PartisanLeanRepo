{
 "cells": [
  {
   "cell_type": "code",
   "execution_count": 1,
   "metadata": {
    "scrolled": false
   },
   "outputs": [
    {
     "name": "stdout",
     "output_type": "stream",
     "text": [
      "Requirement already satisfied: squarify in /Users/manavdutta1/anaconda/lib/python3.6/site-packages\r\n"
     ]
    }
   ],
   "source": [
    "import sys\n",
    "!{sys.executable} -m pip install squarify"
   ]
  },
  {
   "cell_type": "code",
   "execution_count": 2,
   "metadata": {
    "collapsed": true
   },
   "outputs": [],
   "source": [
    "#states under consideration: Illinois, Florida, Oregon, New Hampshire, Colorado, California, New Jersey, Arizona"
   ]
  },
  {
   "cell_type": "code",
   "execution_count": 3,
   "metadata": {},
   "outputs": [
    {
     "name": "stderr",
     "output_type": "stream",
     "text": [
      "/Users/manavdutta1/anaconda/lib/python3.6/site-packages/statsmodels/compat/pandas.py:56: FutureWarning: The pandas.core.datetools module is deprecated and will be removed in a future version. Please use the pandas.tseries module instead.\n",
      "  from pandas.core import datetools\n"
     ]
    }
   ],
   "source": [
    "import scipy.stats\n",
    "import matplotlib.pyplot as plt\n",
    "import copy\n",
    "from sklearn import linear_model\n",
    "\n",
    "import matplotlib\n",
    "from scipy import stats\n",
    "from scipy.optimize import curve_fit\n",
    "from ipywidgets import interact, interactive, fixed\n",
    "import ipywidgets as widgets\n",
    "import seaborn as sns\n",
    "import json\n",
    "import statsmodels.api as sm\n",
    "import squarify\n",
    "\n",
    "import pandas as pd\n",
    "import numpy as np\n",
    "import folium\n",
    "from folium.features import DivIcon\n",
    "import requests\n",
    "from bs4 import BeautifulSoup\n",
    "import re\n",
    "\n",
    "%matplotlib inline"
   ]
  },
  {
   "cell_type": "code",
   "execution_count": 4,
   "metadata": {
    "collapsed": true
   },
   "outputs": [],
   "source": [
    "#existing data\n",
    "floridaFrame = pd.read_csv('FloridaResults.csv')\n",
    "floridaCounties = [\"Alachua\",\"Baker\",\"Bay\",\"Bradford\",\"Brevard\",\"Broward\",\"Calhoun\",\"Charlotte\",\"Citrus\",\"Clay\",\"Collier\",\"Columbia\",\"DeSoto\",\"Dixie\",\"Duval\",\"Escambia\",\"Flagler\",\"Franklin\",\"Gadsden\",\"Gilchrist\",\"Glades\",\"Gulf\",\"Hamilton\",\"Hardee\",\"Hendry\",\"Hernando\",\"Highlands\",\"Hillsborough\",\"Holmes\",\"Indian River\",\"Jackson\",\"Jefferson\",\"Lafayette\",\"Lake\",\"Lee\",\"Leon\",\"Levy\",\"Liberty\",\"Madison\",\"Manatee\",\"Marion\",\"Martin\",\"Miami-Dade\",\"Monroe\",\"Nassau\",\"Okaloosa\",\"Okeechobee\",\"Orange\",\"Osceola\",\"Palm Beach\",\"Pasco\",\"Pinellas\",\"Polk\",\"Putnam\",\"Santa Rosa\",\"Sarasota\",\"Seminole\",\"St. Johns\",\"St. Lucie\",\"Sumter\",\"Suwannee\",\"Taylor\",\"Union\",\"Volusia\",\"Wakulla\",\"Walton\",\"Washington\"]"
   ]
  },
  {
   "cell_type": "code",
   "execution_count": 5,
   "metadata": {
    "collapsed": true
   },
   "outputs": [],
   "source": [
    "#lets compute centroids of counties"
   ]
  },
  {
   "cell_type": "code",
   "execution_count": 30,
   "metadata": {
    "collapsed": true
   },
   "outputs": [],
   "source": [
    "def centeroidnp(arr):\n",
    "    length = arr.shape[0]\n",
    "    sum_x = np.sum(arr[:, 0])\n",
    "    sum_y = np.sum(arr[:, 1])\n",
    "    return sum_x/length, sum_y/length"
   ]
  },
  {
   "cell_type": "code",
   "execution_count": 7,
   "metadata": {
    "collapsed": true
   },
   "outputs": [],
   "source": [
    "counties = pd.read_json('us-counties.json')\n",
    "floridacounties = []\n",
    "floridaPoints = []\n",
    "for i in range(len(counties['features'])):\n",
    "    county = counties.iloc[i]['features']\n",
    "    name = county[\"properties\"][\"name\"]\n",
    "    name = name.strip()\n",
    "    if(county[\"id\"][0:2] == \"12\"):\n",
    "         floridacounties.append(county)\n",
    "         floridaPoints.append(county[\"geometry\"][\"coordinates\"][0])\n",
    "jsonDict = {\"type\": \"FeatureCollection\", \"features\": floridacounties}\n",
    "with open('fl-counties.json', 'w') as outfile:  \n",
    "    json.dump(jsonDict, outfile)"
   ]
  },
  {
   "cell_type": "code",
   "execution_count": 8,
   "metadata": {
    "collapsed": true
   },
   "outputs": [],
   "source": [
    "def plotSums(df):\n",
    "    demCountiesSums = []\n",
    "    repCountiesSums = []\n",
    "    years = list(range(1976, 2044, 4))\n",
    "    for year in years:\n",
    "        demList = []\n",
    "        repList = []\n",
    "        for county in df['Partisan Lean ' + str(year)]:\n",
    "          if (county > 0):\n",
    "             demList.append(county)\n",
    "          else:\n",
    "             repList.append(county) \n",
    "        \n",
    "        demCountiesSums.append(len(demList))\n",
    "        repCountiesSums.append(len(repList))\n",
    "    sumDataframe = pd.DataFrame({'year': years, 'demList': demCountiesSums, 'repList': repCountiesSums})\n",
    "    f, ax = plt.subplots(1, 1)\n",
    "    sns.pointplot(x=\"year\", y=\"demList\", data=sumDataframe, color='blue')\n",
    "    sns.pointplot(x=\"year\", y=\"repList\", data=sumDataframe, color='red')\n",
    "    ax.set_title(\"Counties by Party\")\n",
    "    ax.set_xlabel(\"Year\")\n",
    "    ax.set_ylabel(\"Number of counties\")\n",
    "    ax.set_yticks(list(range(0, 70, 5)))\n",
    "    ax.legend([\"Democratic\", \"Republican\"])"
   ]
  },
  {
   "cell_type": "code",
   "execution_count": 9,
   "metadata": {
    "collapsed": true
   },
   "outputs": [],
   "source": [
    "def plotLeans(df):\n",
    "    demAverageLean = []\n",
    "    repAverageLean = []\n",
    "    years = list(range(1976, 2044, 4))\n",
    "    for year in years:\n",
    "        demList = []\n",
    "        repList = []\n",
    "        for county in df['Partisan Lean ' + str(year)]:\n",
    "            if (county > 0):\n",
    "                demList.append(county)\n",
    "            else:\n",
    "                repList.append(county) \n",
    "        if (len(demList) != 0):\n",
    "            demAverageLean.append((sum(demList)*1.0)/len(demList))\n",
    "        else:\n",
    "            demAverageLean.append(0.0)\n",
    "        if (len(repList) != 0):\n",
    "            repAverageLean.append((sum(repList)*1.0)/len(repList))\n",
    "        else:\n",
    "            repAverageLean.append(0.0)\n",
    "    leanDF = pd.DataFrame({'year': years, 'demList': demAverageLean, 'repList': repAverageLean})\n",
    "    f, ax = plt.subplots(1, 1)\n",
    "    sns.pointplot(x=\"year\", y=\"demList\", data=leanDF, color='blue')\n",
    "    sns.pointplot(x=\"year\", y=\"repList\", data=leanDF, color='red')\n",
    "    ax.set_xlabel(\"Year\")\n",
    "    ax.set_ylabel(\"Partisan Lean\")\n",
    "\n",
    "    yList = [-.4]\n",
    "    s = -.40\n",
    "    for a in range(45):\n",
    "        s += .05\n",
    "        yList.append(s)\n",
    "    \n",
    "    ax.set_yticks(yList)\n",
    "    ax.legend([\"Democratic\", \"Republican\"])\n",
    "    ax.set_xlabel(\"Year\")\n",
    "    ax.set_ylabel(\"Partisan Lean value\")\n",
    "    ax.set_title(\"Partisan Lean (1976-2040)\")"
   ]
  },
  {
   "cell_type": "code",
   "execution_count": 10,
   "metadata": {
    "collapsed": true
   },
   "outputs": [],
   "source": [
    "def func(x, a, b):\n",
    "    return a*np.log(x) + b"
   ]
  },
  {
   "cell_type": "code",
   "execution_count": 31,
   "metadata": {
    "collapsed": true
   },
   "outputs": [],
   "source": [
    "def extendedMap(df, year, loc, zoom, points):\n",
    "    foliumMap = folium.Map(location=loc, zoom_start=zoom)\n",
    "    yearCol = \"Partisan Lean \" + str(year)\n",
    "    legendCol = \"Partisan Lean \" + str(year)\n",
    "    foliumMap.choropleth(geo_data=geo, data=df,\n",
    "             columns=['counties', yearCol],\n",
    "             key_on='feature.properties.name', threshold_scale=[-.10, -.05, 0, .05, .10],\n",
    "             fill_color='RdBu', fill_opacity=0.7, line_opacity=0.2,\n",
    "             legend_name=legendCol)\n",
    "    a = 0\n",
    "    for county in df['counties']:\n",
    "        latitude = None\n",
    "        longitude = None\n",
    "        longitude, latitude = centeroidnp(np.array(points[a]))\n",
    "        folium.features.Marker(location=[latitude, longitude], icon=DivIcon(\n",
    "        icon_size=(10,8),\n",
    "        icon_anchor=(0,0),\n",
    "        html='<div style=\"font-size: 6pt\">'+ county + '</div>')).add_to(foliumMap)\n",
    "        a += 1\n",
    "    return foliumMap"
   ]
  },
  {
   "cell_type": "code",
   "execution_count": 29,
   "metadata": {
    "scrolled": true
   },
   "outputs": [
    {
     "data": {
      "application/vnd.jupyter.widget-view+json": {
       "model_id": "eb55f8c45e2d491ebd62ce8e77376d9f"
      }
     },
     "metadata": {},
     "output_type": "display_data"
    }
   ],
   "source": [
    "geo = r'fl-counties.json'\n",
    "slider = widgets.IntSlider(value=1976, min=1976, max=2040, step=4)\n",
    "interact(extendedMap, df=fixed(floridaFrame), year=slider, loc=fixed((27.7, -81.5)), zoom=fixed(6), points=fixed(floridaPoints))\n",
    "None"
   ]
  },
  {
   "cell_type": "code",
   "execution_count": null,
   "metadata": {
    "collapsed": true
   },
   "outputs": [],
   "source": [
    "def constructExtendedTreemap(df, year):\n",
    "    cmap = matplotlib.cm.RdBu\n",
    "    dfSorted = df.sort_values(str(year)+\"Total\", ascending=False)\n",
    "    mini=min(df['Partisan Lean '+str(year)])\n",
    "    maxi=max(df['Partisan Lean '+str(year)])\n",
    "    norm = matplotlib.colors.Normalize(vmin=-1, vmax=1)\n",
    "    colors = [cmap(norm(value)) for value in dfSorted['Partisan Lean '+str(year)]]\n",
    "    \n",
    "    plt.rc('font', size=22)\n",
    "    squarify.plot(sizes=dfSorted[str(year)+\"Total\"], label=dfSorted['counties'], alpha=0.8, color=colors )\n",
    "    plt.axis('off')\n",
    "    fig = plt.gcf()\n",
    "    fig.set_size_inches(20, 16)\n",
    "    plt.show()"
   ]
  },
  {
   "cell_type": "code",
   "execution_count": null,
   "metadata": {},
   "outputs": [],
   "source": [
    "geo = r'fl-counties.json'\n",
    "slider = widgets.IntSlider(value=1976, min=1976, max=2040, step=4)\n",
    "interact(constructExtendedTreemap, df=fixed(floridaFrame), year=slider)\n",
    "None"
   ]
  },
  {
   "cell_type": "code",
   "execution_count": null,
   "metadata": {
    "collapsed": true
   },
   "outputs": [],
   "source": [
    "def constructBarplot(df, minYear, maxYear, title):\n",
    "    demTotals = []\n",
    "    repubTotals = []\n",
    "\n",
    "    for year in range(minYear, maxYear, 4):\n",
    "       dTotal = 0.0\n",
    "       rTotal = 0.0\n",
    "       if (year <= 2016):\n",
    "          for i in range(len(df)):\n",
    "              dTotal += df.get_value(i, str(year)+\"D\") * df.get_value(i, str(year)+\"Total\") \n",
    "              rTotal += df.get_value(i, str(year)+\"R\") * df.get_value(i, str(year)+\"Total\")\n",
    "       else: #based on partisan lean and national vote being tied\n",
    "          for i in range(len(df)):\n",
    "              dPerc = .5 + df.get_value(i, \"Partisan Lean \" + str(year))\n",
    "              rPerc = .5 - df.get_value(i, \"Partisan Lean \" + str(year)) \n",
    "              if (dPerc < 0):\n",
    "                 dPerc = 0.0\n",
    "              if (dPerc > 1):\n",
    "                 dPerc = 1.0\n",
    "              if (rPerc < 0):\n",
    "                  rPerc = 0.0\n",
    "              if (rPerc > 1):\n",
    "                  rPerc = 1.0\n",
    "                \n",
    "              dTotal += df.get_value(i, str(year)+\"Total\") * dPerc\n",
    "              rTotal += df.get_value(i, str(year)+\"Total\") * rPerc  \n",
    "       \n",
    "       print(\"Year: \" + str(year) + \"DemTotal: \" + str(dTotal) + \"RepTotal: \" + str(rTotal))\n",
    "       demTotals.append(dTotal/(dTotal+rTotal))\n",
    "       repubTotals.append(rTotal/(dTotal+rTotal))\n",
    "        \n",
    "    ax = sns.barplot(x=list(range(minYear, maxYear, 4)), y=demTotals)\n",
    "    fig = plt.gcf()\n",
    "\n",
    "    demList = []\n",
    "    s = 0.0\n",
    "    for a in range(20):\n",
    "        s += .05\n",
    "        demList.append(s)\n",
    "    \n",
    "    ax.set_yticks(demList)\n",
    "    fig.set_size_inches(20, 16)\n",
    "    ax.set_title(title)\n",
    "    ax.set_xlabel(\"Year\")\n",
    "    ax.set_ylabel(\"Percentage Lean\")\n",
    "    \n",
    "#     ax = sns.barplot(x=list(range(minYear, maxYear, 4)), y=repubTotals)\n",
    "#     fig = plt.gcf()\n",
    "\n",
    "#     repubList = []\n",
    "#     s = 0.0\n",
    "#     for a in range(20):\n",
    "#         s += .05\n",
    "#         repubList.append(s)\n",
    "    \n",
    "#     ax.set_yticks(repubList)\n",
    "#     fig.set_size_inches(20, 16)"
   ]
  },
  {
   "cell_type": "code",
   "execution_count": null,
   "metadata": {},
   "outputs": [],
   "source": [
    "constructBarplot(floridaFrame, 1976, 2044, \"Democratic Lean of Florida (1976-2040)\")"
   ]
  },
  {
   "cell_type": "code",
   "execution_count": null,
   "metadata": {
    "scrolled": true
   },
   "outputs": [],
   "source": [
    "plotSums(floridaFrame)"
   ]
  },
  {
   "cell_type": "code",
   "execution_count": null,
   "metadata": {},
   "outputs": [],
   "source": [
    "plotLeans(floridaFrame)"
   ]
  },
  {
   "cell_type": "code",
   "execution_count": null,
   "metadata": {
    "collapsed": true
   },
   "outputs": [],
   "source": [
    "oregonFrame = pd.read_csv(\"OregonResults.csv\")\n",
    "oregonCounties = ['Baker', 'Benton', 'Clackamas', 'Clatsop', 'Columbia', 'Coos', 'Crook', 'Curry', 'Deschutes', 'Douglas', 'Gilliam', 'Grant', 'Harney', 'Hood River', 'Jackson', 'Jefferson', 'Josephine', 'Klamath', 'Lake', 'Lane', 'Lincoln', 'Linn', 'Malheur', 'Marion', 'Morrow', 'Multnomah', 'Polk', 'Sherman', 'Tillamook', 'Umatilla', 'Union', 'Wallowa', 'Wasco', 'Washington', 'Wheeler', 'Yamhill']"
   ]
  },
  {
   "cell_type": "code",
   "execution_count": null,
   "metadata": {},
   "outputs": [],
   "source": [
    "counties = pd.read_json('us-counties.json')\n",
    "points = []\n",
    "for i in range(len(counties['features'])):\n",
    "    county = counties.iloc[i]['features']\n",
    "    name = county[\"properties\"][\"name\"]\n",
    "    name = name.strip()\n",
    "    if(county[\"id\"][0:2] == \"41\"):\n",
    "         counties.append(county)\n",
    "         points.append(county[\"geometry\"][\"coordinates\"][0])\n",
    "jsonDict = {\"type\": \"FeatureCollection\", \"features\": counties}\n",
    "with open('or-counties.json', 'w') as outfile:  \n",
    "    json.dump(jsonDict, outfile)"
   ]
  },
  {
   "cell_type": "code",
   "execution_count": null,
   "metadata": {},
   "outputs": [],
   "source": [
    "geo = r'or-counties.json'\n",
    "slider = widgets.IntSlider(value=1976, min=1976, max=2040, step=4)\n",
    "interact(constructExtendedTreemap, df=fixed(oregonFrame), year=slider, points=fixed(points))\n",
    "None"
   ]
  },
  {
   "cell_type": "code",
   "execution_count": null,
   "metadata": {},
   "outputs": [],
   "source": [
    "slider = widgets.IntSlider(value=1976, min=1976, max=2040, step=4)\n",
    "interact(extendedMap, df=fixed(oregonFrame), year=slider, loc=fixed((44, -121)),zoom=fixed(6))\n",
    "None"
   ]
  },
  {
   "cell_type": "code",
   "execution_count": null,
   "metadata": {},
   "outputs": [],
   "source": [
    "constructBarplot(oregonFrame, 1976, 2044, \"Democratic Lean of Oregon (1976-2040)\")"
   ]
  },
  {
   "cell_type": "code",
   "execution_count": null,
   "metadata": {},
   "outputs": [],
   "source": [
    "plotSums(oregonFrame)"
   ]
  },
  {
   "cell_type": "code",
   "execution_count": null,
   "metadata": {},
   "outputs": [],
   "source": [
    "plotLeans(oregonFrame)"
   ]
  },
  {
   "cell_type": "code",
   "execution_count": null,
   "metadata": {
    "collapsed": true
   },
   "outputs": [],
   "source": [
    "illinoisFrame = pd.read_csv('IllinoisResults.csv')\n",
    "illinoisCounties = [\"Adams\",\"Alexander\",\"Bond\",\"Boone\",\"Brown\",\"Bureau\",\"Calhoun\",\"Carroll\",\"Cass\",\"Champaign\",\"Christian\",\"Clark\",\"Clay\",\"Clinton\",\"Coles\",\"Cook\",\"Crawford\",\"Cumberland\",\"De Witt\",\"DeKalb\",\"Douglas\",\"DuPage\",\"Edgar\",\"Edwards\",\"Effingham\",\"Fayette\",\"Ford\",\"Franklin\",\"Fulton\",\"Gallatin\",\"Greene\",\"Grundy\",\"Hamilton\",\"Hancock\",\"Hardin\",\"Henderson\",\"Henry\",\"Iroquois\",\"Jackson\",\"Jasper\",\"Jefferson\",\"Jersey\",\"Jo Daviess\",\"Johnson\",\"Kane\",\"Kankakee\",\"Kendall\",\"Knox\",\"LaSalle\",\"Lake\",\"Lawrence\",\"Lee\",\"Livingston\",\"Logan\",\"Macon\",\"Macoupin\",\"Madison\",\"Marion\",\"Marshall\",\"Mason\",\"Massac\",\"McDonough\",\"McHenry\",\"McLean\",\"Menard\",\"Mercer\",\"Monroe\",\"Montgomery\",\"Morgan\",\"Moultrie\",\"Ogle\",\"Peoria\",\"Perry\",\"Piatt\",\"Pike\",\"Pope\",\"Pulaski\",\"Putnam\",\"Randolph\",\"Richland\",\"Rock Island\",\"Saline\",\"Sangamon\",\"Schuyler\",\"Scott\",\"Shelby\",\"St. Clair\",\"Stark\",\"Stephenson\",\"Tazewell\",\"Union\",\"Vermilion\",\"Wabash\",\"Warren\",\"Washington\",\"Wayne\",\"White\",\"Whiteside\",\"Will\",\"Williamson\",\"Winnebago\",\"Woodford\"]"
   ]
  },
  {
   "cell_type": "code",
   "execution_count": null,
   "metadata": {},
   "outputs": [],
   "source": [
    "geo = r'il-counties.json'\n",
    "slider = widgets.IntSlider(value=1976, min=1976, max=2040, step=4)\n",
    "interact(constructExtendedTreemap, df=fixed(illinoisFrame), year=slider)\n",
    "None"
   ]
  },
  {
   "cell_type": "code",
   "execution_count": null,
   "metadata": {
    "collapsed": true
   },
   "outputs": [],
   "source": [
    "counties = pd.read_json('us-counties.json')\n",
    "points = []\n",
    "for i in range(len(counties['features'])):\n",
    "    county = counties.iloc[i]['features']\n",
    "    name = county[\"properties\"][\"name\"]\n",
    "    name = name.strip()\n",
    "    if(county[\"id\"][0:2] == \"17\"):\n",
    "         points.append(county[\"geometry\"][\"coordinates\"][0])"
   ]
  },
  {
   "cell_type": "code",
   "execution_count": null,
   "metadata": {},
   "outputs": [],
   "source": [
    "slider = widgets.IntSlider(value=1976, min=1976, max=2040, step=4)\n",
    "interact(extendedMap, df=fixed(illinoisFrame), year=slider, loc=fixed((40, -90)),zoom=fixed(6), points=fixed(points))\n",
    "None"
   ]
  },
  {
   "cell_type": "code",
   "execution_count": null,
   "metadata": {},
   "outputs": [],
   "source": [
    "constructBarplot(illinoisFrame, 1976, 2044, \"Democratic Lean of Illinois (1976-2040)\")"
   ]
  },
  {
   "cell_type": "code",
   "execution_count": null,
   "metadata": {},
   "outputs": [],
   "source": [
    "plotSums(illinoisFrame)"
   ]
  },
  {
   "cell_type": "code",
   "execution_count": null,
   "metadata": {},
   "outputs": [],
   "source": [
    "plotLeans(illinoisFrame)"
   ]
  },
  {
   "cell_type": "code",
   "execution_count": null,
   "metadata": {
    "collapsed": true
   },
   "outputs": [],
   "source": [
    "californiaFrame = pd.read_csv(\"CaliforniaResults.csv\")\n",
    "californiaCounties = ['Alameda', 'Alpine', 'Amador', 'Butte', 'Calaveras', 'Colusa', 'Contra Costa', 'Del Norte', 'El Dorado', 'Fresno', 'Glenn', 'Humboldt', 'Imperial', 'Inyo', 'Kern', 'Kings', 'Lake', 'Lassen', 'Los Angeles', 'Madera', 'Marin', 'Mariposa', 'Mendocino', 'Merced', 'Modoc', 'Mono', 'Monterey', 'Napa', 'Nevada', 'Orange', 'Placer', 'Plumas', 'Riverside', 'Sacramento', 'San Benito', 'San Bernardino', 'San Diego', 'San Francisco', 'San Joaquin', 'San Luis Obispo', 'San Mateo', 'Santa Barbara', 'Santa Clara', 'Santa Cruz', 'Shasta', 'Sierra', 'Siskiyou', 'Solano', 'Sonoma', 'Stanislaus', 'Sutter', 'Tehama', 'Trinity', 'Tulare', 'Tuolumne', 'Ventura', 'Yolo', 'Yuba']"
   ]
  },
  {
   "cell_type": "code",
   "execution_count": null,
   "metadata": {
    "collapsed": true
   },
   "outputs": [],
   "source": [
    "counties = pd.read_json('us-counties.json')\n",
    "points = []\n",
    "for i in range(len(counties['features'])):\n",
    "    county = counties.iloc[i]['features']\n",
    "    name = county[\"properties\"][\"name\"]\n",
    "    name = name.strip()\n",
    "    if(county[\"id\"][0] == \"6\"):\n",
    "         points.append(county[\"geometry\"][\"coordinates\"][0])"
   ]
  },
  {
   "cell_type": "code",
   "execution_count": null,
   "metadata": {},
   "outputs": [],
   "source": [
    "geo = r'ca-counties.json'\n",
    "slider = widgets.IntSlider(value=1976, min=1976, max=2040, step=4)\n",
    "interact(extendedMap, df=fixed(californiaFrame), year=slider, loc=fixed((40, -90)),zoom=fixed(6), points=fixed(points))\n",
    "None"
   ]
  },
  {
   "cell_type": "code",
   "execution_count": null,
   "metadata": {},
   "outputs": [],
   "source": [
    "geo = r'ca-counties.json'\n",
    "slider = widgets.IntSlider(value=1976, min=1976, max=2040, step=4)\n",
    "interact(constructExtendedTreemap, df=fixed(californiaFrame), year=slider)\n",
    "None"
   ]
  },
  {
   "cell_type": "code",
   "execution_count": null,
   "metadata": {},
   "outputs": [],
   "source": [
    "constructBarplot(californiaFrame, 1976, 2044, \"Democratic Lean of California (1976-2040)\")"
   ]
  },
  {
   "cell_type": "code",
   "execution_count": null,
   "metadata": {},
   "outputs": [],
   "source": [
    "plotSums(californiaFrame)"
   ]
  },
  {
   "cell_type": "code",
   "execution_count": null,
   "metadata": {},
   "outputs": [],
   "source": [
    "plotLeans(californiaFrame)"
   ]
  },
  {
   "cell_type": "code",
   "execution_count": null,
   "metadata": {
    "collapsed": true
   },
   "outputs": [],
   "source": []
  }
 ],
 "metadata": {
  "kernelspec": {
   "display_name": "Python 3",
   "language": "python",
   "name": "python3"
  },
  "language_info": {
   "codemirror_mode": {
    "name": "ipython",
    "version": 3
   },
   "file_extension": ".py",
   "mimetype": "text/x-python",
   "name": "python",
   "nbconvert_exporter": "python",
   "pygments_lexer": "ipython3",
   "version": "3.6.1"
  }
 },
 "nbformat": 4,
 "nbformat_minor": 2
}
