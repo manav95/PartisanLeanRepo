{
 "cells": [
  {
   "cell_type": "code",
   "execution_count": null,
   "metadata": {
    "scrolled": false
   },
   "outputs": [],
   "source": [
    "import sys\n",
    "!{sys.executable} -m pip install squarify"
   ]
  },
  {
   "cell_type": "code",
   "execution_count": null,
   "metadata": {
    "collapsed": true
   },
   "outputs": [],
   "source": [
    "#states under consideration: Illinois, Florida, Oregon, New Hampshire, Colorado, California, New Jersey, Arizona"
   ]
  },
  {
   "cell_type": "code",
   "execution_count": null,
   "metadata": {},
   "outputs": [],
   "source": [
    "import scipy.stats\n",
    "import matplotlib.pyplot as plt\n",
    "import copy\n",
    "from sklearn import linear_model\n",
    "\n",
    "import matplotlib\n",
    "from scipy import stats\n",
    "from scipy.optimize import curve_fit\n",
    "from ipywidgets import interact, interactive, fixed\n",
    "import ipywidgets as widgets\n",
    "import seaborn as sns\n",
    "import json\n",
    "import statsmodels.api as sm\n",
    "import squarify\n",
    "\n",
    "import pandas as pd\n",
    "import numpy as np\n",
    "import folium\n",
    "from folium.features import DivIcon\n",
    "import requests\n",
    "from bs4 import BeautifulSoup\n",
    "import re\n",
    "\n",
    "%matplotlib inline"
   ]
  },
  {
   "cell_type": "code",
   "execution_count": null,
   "metadata": {
    "collapsed": true
   },
   "outputs": [],
   "source": [
    "#existing data\n",
    "floridaFrame = pd.read_csv('FloridaResults.csv')\n",
    "floridaCounties = [\"Alachua\",\"Baker\",\"Bay\",\"Bradford\",\"Brevard\",\"Broward\",\"Calhoun\",\"Charlotte\",\"Citrus\",\"Clay\",\"Collier\",\"Columbia\",\"DeSoto\",\"Dixie\",\"Duval\",\"Escambia\",\"Flagler\",\"Franklin\",\"Gadsden\",\"Gilchrist\",\"Glades\",\"Gulf\",\"Hamilton\",\"Hardee\",\"Hendry\",\"Hernando\",\"Highlands\",\"Hillsborough\",\"Holmes\",\"Indian River\",\"Jackson\",\"Jefferson\",\"Lafayette\",\"Lake\",\"Lee\",\"Leon\",\"Levy\",\"Liberty\",\"Madison\",\"Manatee\",\"Marion\",\"Martin\",\"Miami-Dade\",\"Monroe\",\"Nassau\",\"Okaloosa\",\"Okeechobee\",\"Orange\",\"Osceola\",\"Palm Beach\",\"Pasco\",\"Pinellas\",\"Polk\",\"Putnam\",\"Santa Rosa\",\"Sarasota\",\"Seminole\",\"St. Johns\",\"St. Lucie\",\"Sumter\",\"Suwannee\",\"Taylor\",\"Union\",\"Volusia\",\"Wakulla\",\"Walton\",\"Washington\"]"
   ]
  },
  {
   "cell_type": "code",
   "execution_count": null,
   "metadata": {
    "collapsed": true
   },
   "outputs": [],
   "source": [
    "#lets compute centroids of counties"
   ]
  },
  {
   "cell_type": "code",
   "execution_count": null,
   "metadata": {
    "collapsed": true
   },
   "outputs": [],
   "source": [
    "def centeroidnp(arr):\n",
    "    length = arr.shape[0]\n",
    "    sum_x = np.sum(arr[:, 0])\n",
    "    sum_y = np.sum(arr[:, 1])\n",
    "    return sum_x/length, sum_y/length"
   ]
  },
  {
   "cell_type": "code",
   "execution_count": null,
   "metadata": {
    "collapsed": true
   },
   "outputs": [],
   "source": [
    "counties = pd.read_json('us-counties.json')\n",
    "floridacounties = []\n",
    "floridaPoints = []\n",
    "for i in range(len(counties['features'])):\n",
    "    county = counties.iloc[i]['features']\n",
    "    name = county[\"properties\"][\"name\"]\n",
    "    name = name.strip()\n",
    "    if(county[\"id\"][0:2] == \"12\"):\n",
    "         floridacounties.append(county)\n",
    "         floridaPoints.append(county[\"geometry\"][\"coordinates\"][0])\n",
    "jsonDict = {\"type\": \"FeatureCollection\", \"features\": floridacounties}\n",
    "with open('fl-counties.json', 'w') as outfile:  \n",
    "    json.dump(jsonDict, outfile)"
   ]
  },
  {
   "cell_type": "code",
   "execution_count": null,
   "metadata": {
    "collapsed": true
   },
   "outputs": [],
   "source": [
    "def plotSums(df):\n",
    "    demCountiesSums = []\n",
    "    repCountiesSums = []\n",
    "    years = list(range(1976, 2044, 4))\n",
    "    for year in years:\n",
    "        demList = []\n",
    "        repList = []\n",
    "        for county in df['Partisan Lean ' + str(year)]:\n",
    "          if (county > 0):\n",
    "             demList.append(county)\n",
    "          else:\n",
    "             repList.append(county) \n",
    "        \n",
    "        demCountiesSums.append(len(demList))\n",
    "        repCountiesSums.append(len(repList))\n",
    "    sumDataframe = pd.DataFrame({'year': years, 'demList': demCountiesSums, 'repList': repCountiesSums})\n",
    "    f, ax = plt.subplots(1, 1)\n",
    "    sns.pointplot(x=\"year\", y=\"demList\", data=sumDataframe, color='blue')\n",
    "    sns.pointplot(x=\"year\", y=\"repList\", data=sumDataframe, color='red')\n",
    "    ax.set_title(\"Counties by Party\")\n",
    "    ax.set_xlabel(\"Year\")\n",
    "    ax.set_ylabel(\"Number of counties\")\n",
    "    ax.set_yticks(list(range(0, 70, 5)))\n",
    "    ax.legend([\"Democratic\", \"Republican\"])"
   ]
  },
  {
   "cell_type": "code",
   "execution_count": null,
   "metadata": {
    "collapsed": true
   },
   "outputs": [],
   "source": [
    "def plotLeans(df):\n",
    "    demAverageLean = []\n",
    "    repAverageLean = []\n",
    "    years = list(range(1976, 2044, 4))\n",
    "    for year in years:\n",
    "        demList = []\n",
    "        repList = []\n",
    "        for county in df['Partisan Lean ' + str(year)]:\n",
    "            if (county > 0):\n",
    "                demList.append(county)\n",
    "            else:\n",
    "                repList.append(county) \n",
    "        if (len(demList) != 0):\n",
    "            demAverageLean.append((sum(demList)*1.0)/len(demList))\n",
    "        else:\n",
    "            demAverageLean.append(0.0)\n",
    "        if (len(repList) != 0):\n",
    "            repAverageLean.append((sum(repList)*1.0)/len(repList))\n",
    "        else:\n",
    "            repAverageLean.append(0.0)\n",
    "    leanDF = pd.DataFrame({'year': years, 'demList': demAverageLean, 'repList': repAverageLean})\n",
    "    f, ax = plt.subplots(1, 1)\n",
    "    sns.pointplot(x=\"year\", y=\"demList\", data=leanDF, color='blue')\n",
    "    sns.pointplot(x=\"year\", y=\"repList\", data=leanDF, color='red')\n",
    "    ax.set_xlabel(\"Year\")\n",
    "    ax.set_ylabel(\"Partisan Lean\")\n",
    "\n",
    "    yList = [-.4]\n",
    "    s = -.40\n",
    "    for a in range(20):\n",
    "        s += .05\n",
    "        yList.append(s)\n",
    "    \n",
    "    ax.set_yticks(yList)\n",
    "    ax.legend([\"Democratic\", \"Republican\"])\n",
    "    ax.set_xlabel(\"Year\")\n",
    "    ax.set_ylabel(\"Partisan Lean value\")\n",
    "    ax.set_title(\"Partisan Lean (1976-2040)\")"
   ]
  },
  {
   "cell_type": "code",
   "execution_count": null,
   "metadata": {
    "collapsed": true
   },
   "outputs": [],
   "source": [
    "def func(x, a, b):\n",
    "    return a*np.log(x) + b"
   ]
  },
  {
   "cell_type": "code",
   "execution_count": null,
   "metadata": {},
   "outputs": [],
   "source": [
    "def extendedMap(df, year, loc, zoom, points):\n",
    "    foliumMap = folium.Map(location=loc, zoom_start=zoom)\n",
    "    yearCol = \"Partisan Lean \" + str(year)\n",
    "    legendCol = \"Partisan Lean \" + str(year)\n",
    "    foliumMap.choropleth(geo_data=geo, data=df,\n",
    "             columns=['counties', yearCol],\n",
    "             key_on='feature.properties.name', threshold_scale=[-.10, -.05, 0, .05, .10],\n",
    "             fill_color='RdBu', fill_opacity=0.7, line_opacity=0.2,\n",
    "             legend_name=legendCol)\n",
    "    a = 0\n",
    "    for county in df['counties']:\n",
    "        latitude = None\n",
    "        longitude = None\n",
    "        try:\n",
    "           longitude, latitude = centeroidnp(np.array(points[a]))\n",
    "           folium.features.Marker(location=[latitude, longitude], icon=DivIcon(icon_size=(10,8),icon_anchor=(0,0), html='<div style=\"font-size: 6pt\">'+ county + '</div>')).add_to(foliumMap)\n",
    "           a += 1\n",
    "        except (IndexError):\n",
    "            break\n",
    "    return foliumMap"
   ]
  },
  {
   "cell_type": "code",
   "execution_count": null,
   "metadata": {
    "scrolled": true
   },
   "outputs": [],
   "source": [
    "geo = r'fl-counties.json'\n",
    "slider = widgets.IntSlider(value=1976, min=1976, max=2040, step=4)\n",
    "interact(extendedMap, df=fixed(floridaFrame), year=slider, loc=fixed((27.7, -81.5)), zoom=fixed(6), points=fixed(floridaPoints))\n",
    "None"
   ]
  },
  {
   "cell_type": "code",
   "execution_count": null,
   "metadata": {
    "collapsed": true
   },
   "outputs": [],
   "source": [
    "def constructExtendedTreemap(df, year):\n",
    "    cmap = matplotlib.cm.RdBu\n",
    "    dfSorted = df.sort_values(str(year)+\"Total\", ascending=False)\n",
    "    mini=min(df['Partisan Lean '+str(year)])\n",
    "    maxi=max(df['Partisan Lean '+str(year)])\n",
    "    norm = matplotlib.colors.Normalize(vmin=-1, vmax=1)\n",
    "    colors = [cmap(norm(value)) for value in dfSorted['Partisan Lean '+str(year)]]\n",
    "    \n",
    "    plt.rc('font', size=22)\n",
    "    squarify.plot(sizes=dfSorted[str(year)+\"Total\"], label=dfSorted['counties'], alpha=0.8, color=colors )\n",
    "    plt.axis('off')\n",
    "    fig = plt.gcf()\n",
    "    fig.set_size_inches(20, 16)\n",
    "    plt.show()"
   ]
  },
  {
   "cell_type": "code",
   "execution_count": null,
   "metadata": {},
   "outputs": [],
   "source": [
    "geo = r'fl-counties.json'\n",
    "slider = widgets.IntSlider(value=1976, min=1976, max=2040, step=4)\n",
    "interact(constructExtendedTreemap, df=fixed(floridaFrame), year=slider)\n",
    "None"
   ]
  },
  {
   "cell_type": "code",
   "execution_count": null,
   "metadata": {
    "collapsed": true
   },
   "outputs": [],
   "source": [
    "def constructBarplot(df, minYear, maxYear, title):\n",
    "    demTotals = []\n",
    "    repubTotals = []\n",
    "\n",
    "    for year in range(minYear, maxYear, 4):\n",
    "       dTotal = 0.0\n",
    "       rTotal = 0.0\n",
    "       if (year <= 2016):\n",
    "          for i in range(len(df)):\n",
    "              dTotal += df.get_value(i, str(year)+\"D\") * df.get_value(i, str(year)+\"Total\") \n",
    "              rTotal += df.get_value(i, str(year)+\"R\") * df.get_value(i, str(year)+\"Total\")\n",
    "       else: #based on partisan lean and national vote being tied\n",
    "          for i in range(len(df)):\n",
    "              dPerc = .5 + df.get_value(i, \"Partisan Lean \" + str(year))\n",
    "              rPerc = .5 - df.get_value(i, \"Partisan Lean \" + str(year)) \n",
    "              if (dPerc < 0):\n",
    "                 dPerc = 0.0\n",
    "              if (dPerc > 1):\n",
    "                 dPerc = 1.0\n",
    "              if (rPerc < 0):\n",
    "                  rPerc = 0.0\n",
    "              if (rPerc > 1):\n",
    "                  rPerc = 1.0\n",
    "                \n",
    "              dTotal += df.get_value(i, str(year)+\"Total\") * dPerc\n",
    "              rTotal += df.get_value(i, str(year)+\"Total\") * rPerc  \n",
    "       \n",
    "       print(\"Year: \" + str(year) + \"DemTotal: \" + str(dTotal) + \"RepTotal: \" + str(rTotal))\n",
    "       demTotals.append(dTotal/(dTotal+rTotal))\n",
    "       repubTotals.append(rTotal/(dTotal+rTotal))\n",
    "        \n",
    "    ax = sns.barplot(x=list(range(minYear, maxYear, 4)), y=demTotals)\n",
    "    fig = plt.gcf()\n",
    "\n",
    "    demList = []\n",
    "    s = 0.0\n",
    "    for a in range(20):\n",
    "        s += .05\n",
    "        demList.append(s)\n",
    "    \n",
    "    ax.set_yticks(demList)\n",
    "    fig.set_size_inches(50, 16)\n",
    "    ax.set_title(title)\n",
    "    ax.set_xlabel(\"Year\")\n",
    "    ax.set_ylabel(\"Percentage Lean\")\n",
    "    \n",
    "#     ax = sns.barplot(x=list(range(minYear, maxYear, 4)), y=repubTotals)\n",
    "#     fig = plt.gcf()\n",
    "\n",
    "#     repubList = []\n",
    "#     s = 0.0\n",
    "#     for a in range(20):\n",
    "#         s += .05\n",
    "#         repubList.append(s)\n",
    "    \n",
    "#     ax.set_yticks(repubList)\n",
    "#     fig.set_size_inches(20, 16)"
   ]
  },
  {
   "cell_type": "code",
   "execution_count": null,
   "metadata": {},
   "outputs": [],
   "source": [
    "constructBarplot(floridaFrame, 1976, 2044, \"Democratic Lean of Florida (1976-2040)\")"
   ]
  },
  {
   "cell_type": "code",
   "execution_count": null,
   "metadata": {
    "scrolled": true
   },
   "outputs": [],
   "source": [
    "plotSums(floridaFrame)"
   ]
  },
  {
   "cell_type": "code",
   "execution_count": null,
   "metadata": {},
   "outputs": [],
   "source": [
    "plotLeans(floridaFrame)"
   ]
  },
  {
   "cell_type": "code",
   "execution_count": null,
   "metadata": {
    "collapsed": true
   },
   "outputs": [],
   "source": [
    "oregonFrame = pd.read_csv(\"OregonResults.csv\")\n",
    "oregonCounties = ['Baker', 'Benton', 'Clackamas', 'Clatsop', 'Columbia', 'Coos', 'Crook', 'Curry', 'Deschutes', 'Douglas', 'Gilliam', 'Grant', 'Harney', 'Hood River', 'Jackson', 'Jefferson', 'Josephine', 'Klamath', 'Lake', 'Lane', 'Lincoln', 'Linn', 'Malheur', 'Marion', 'Morrow', 'Multnomah', 'Polk', 'Sherman', 'Tillamook', 'Umatilla', 'Union', 'Wallowa', 'Wasco', 'Washington', 'Wheeler', 'Yamhill']"
   ]
  },
  {
   "cell_type": "code",
   "execution_count": null,
   "metadata": {
    "collapsed": true
   },
   "outputs": [],
   "source": [
    "counties = pd.read_json('us-counties.json')\n",
    "points = []\n",
    "for i in range(len(counties['features'])):\n",
    "    county = counties.iloc[i]['features']\n",
    "    name = county[\"properties\"][\"name\"]\n",
    "    name = name.strip()\n",
    "    if(county[\"id\"][0:2] == \"41\"):\n",
    "         points.append(county[\"geometry\"][\"coordinates\"][0])"
   ]
  },
  {
   "cell_type": "code",
   "execution_count": null,
   "metadata": {},
   "outputs": [],
   "source": [
    "geo = r'or-counties.json'\n",
    "slider = widgets.IntSlider(value=1976, min=1976, max=2040, step=4)\n",
    "interact(constructExtendedTreemap, df=fixed(oregonFrame), year=slider, points=fixed(points))\n",
    "None"
   ]
  },
  {
   "cell_type": "code",
   "execution_count": null,
   "metadata": {},
   "outputs": [],
   "source": [
    "slider = widgets.IntSlider(value=1976, min=1976, max=2040, step=4)\n",
    "interact(extendedMap, df=fixed(oregonFrame), year=slider, loc=fixed((44, -121)),zoom=fixed(6), points=fixed(points))\n",
    "None"
   ]
  },
  {
   "cell_type": "code",
   "execution_count": null,
   "metadata": {},
   "outputs": [],
   "source": [
    "constructBarplot(oregonFrame, 1976, 2044, \"Democratic Lean of Oregon (1976-2040)\")"
   ]
  },
  {
   "cell_type": "code",
   "execution_count": null,
   "metadata": {},
   "outputs": [],
   "source": [
    "plotSums(oregonFrame)"
   ]
  },
  {
   "cell_type": "code",
   "execution_count": null,
   "metadata": {},
   "outputs": [],
   "source": [
    "plotLeans(oregonFrame)"
   ]
  },
  {
   "cell_type": "code",
   "execution_count": null,
   "metadata": {
    "collapsed": true
   },
   "outputs": [],
   "source": [
    "illinoisFrame = pd.read_csv('IllinoisResults.csv')\n",
    "illinoisCounties = [\"Adams\",\"Alexander\",\"Bond\",\"Boone\",\"Brown\",\"Bureau\",\"Calhoun\",\"Carroll\",\"Cass\",\"Champaign\",\"Christian\",\"Clark\",\"Clay\",\"Clinton\",\"Coles\",\"Cook\",\"Crawford\",\"Cumberland\",\"De Witt\",\"DeKalb\",\"Douglas\",\"DuPage\",\"Edgar\",\"Edwards\",\"Effingham\",\"Fayette\",\"Ford\",\"Franklin\",\"Fulton\",\"Gallatin\",\"Greene\",\"Grundy\",\"Hamilton\",\"Hancock\",\"Hardin\",\"Henderson\",\"Henry\",\"Iroquois\",\"Jackson\",\"Jasper\",\"Jefferson\",\"Jersey\",\"Jo Daviess\",\"Johnson\",\"Kane\",\"Kankakee\",\"Kendall\",\"Knox\",\"LaSalle\",\"Lake\",\"Lawrence\",\"Lee\",\"Livingston\",\"Logan\",\"Macon\",\"Macoupin\",\"Madison\",\"Marion\",\"Marshall\",\"Mason\",\"Massac\",\"McDonough\",\"McHenry\",\"McLean\",\"Menard\",\"Mercer\",\"Monroe\",\"Montgomery\",\"Morgan\",\"Moultrie\",\"Ogle\",\"Peoria\",\"Perry\",\"Piatt\",\"Pike\",\"Pope\",\"Pulaski\",\"Putnam\",\"Randolph\",\"Richland\",\"Rock Island\",\"Saline\",\"Sangamon\",\"Schuyler\",\"Scott\",\"Shelby\",\"St. Clair\",\"Stark\",\"Stephenson\",\"Tazewell\",\"Union\",\"Vermilion\",\"Wabash\",\"Warren\",\"Washington\",\"Wayne\",\"White\",\"Whiteside\",\"Will\",\"Williamson\",\"Winnebago\",\"Woodford\"]"
   ]
  },
  {
   "cell_type": "code",
   "execution_count": null,
   "metadata": {},
   "outputs": [],
   "source": [
    "geo = r'il-counties.json'\n",
    "slider = widgets.IntSlider(value=1976, min=1976, max=2040, step=4)\n",
    "interact(constructExtendedTreemap, df=fixed(illinoisFrame), year=slider)\n",
    "None"
   ]
  },
  {
   "cell_type": "code",
   "execution_count": null,
   "metadata": {
    "collapsed": true
   },
   "outputs": [],
   "source": [
    "counties = pd.read_json('us-counties.json')\n",
    "points = []\n",
    "for i in range(len(counties['features'])):\n",
    "    county = counties.iloc[i]['features']\n",
    "    name = county[\"properties\"][\"name\"]\n",
    "    name = name.strip()\n",
    "    if(county[\"id\"][0:2] == \"17\"):\n",
    "         points.append(county[\"geometry\"][\"coordinates\"][0])"
   ]
  },
  {
   "cell_type": "code",
   "execution_count": null,
   "metadata": {},
   "outputs": [],
   "source": [
    "slider = widgets.IntSlider(value=1976, min=1976, max=2040, step=4)\n",
    "interact(extendedMap, df=fixed(illinoisFrame), year=slider, loc=fixed((40, -90)),zoom=fixed(6), points=fixed(points))\n",
    "None"
   ]
  },
  {
   "cell_type": "code",
   "execution_count": null,
   "metadata": {},
   "outputs": [],
   "source": [
    "constructBarplot(illinoisFrame, 1976, 2044, \"Democratic Lean of Illinois (1976-2040)\")"
   ]
  },
  {
   "cell_type": "code",
   "execution_count": null,
   "metadata": {},
   "outputs": [],
   "source": [
    "plotSums(illinoisFrame)"
   ]
  },
  {
   "cell_type": "code",
   "execution_count": null,
   "metadata": {},
   "outputs": [],
   "source": [
    "plotLeans(illinoisFrame)"
   ]
  },
  {
   "cell_type": "code",
   "execution_count": null,
   "metadata": {
    "collapsed": true
   },
   "outputs": [],
   "source": [
    "californiaFrame = pd.read_csv(\"CaliforniaResults.csv\")\n",
    "californiaCounties = ['Alameda', 'Alpine', 'Amador', 'Butte', 'Calaveras', 'Colusa', 'Contra Costa', 'Del Norte', 'El Dorado', 'Fresno', 'Glenn', 'Humboldt', 'Imperial', 'Inyo', 'Kern', 'Kings', 'Lake', 'Lassen', 'Los Angeles', 'Madera', 'Marin', 'Mariposa', 'Mendocino', 'Merced', 'Modoc', 'Mono', 'Monterey', 'Napa', 'Nevada', 'Orange', 'Placer', 'Plumas', 'Riverside', 'Sacramento', 'San Benito', 'San Bernardino', 'San Diego', 'San Francisco', 'San Joaquin', 'San Luis Obispo', 'San Mateo', 'Santa Barbara', 'Santa Clara', 'Santa Cruz', 'Shasta', 'Sierra', 'Siskiyou', 'Solano', 'Sonoma', 'Stanislaus', 'Sutter', 'Tehama', 'Trinity', 'Tulare', 'Tuolumne', 'Ventura', 'Yolo', 'Yuba']"
   ]
  },
  {
   "cell_type": "code",
   "execution_count": null,
   "metadata": {
    "collapsed": true
   },
   "outputs": [],
   "source": [
    "counties = pd.read_json('us-counties.json')\n",
    "points = []\n",
    "for i in range(len(counties['features'])):\n",
    "    county = counties.iloc[i]['features']\n",
    "    name = county[\"properties\"][\"name\"]\n",
    "    name = name.strip()\n",
    "    if(county[\"id\"][0] == \"6\"):\n",
    "         points.append(county[\"geometry\"][\"coordinates\"][0])"
   ]
  },
  {
   "cell_type": "code",
   "execution_count": null,
   "metadata": {},
   "outputs": [],
   "source": [
    "geo = r'ca-counties.json'\n",
    "slider = widgets.IntSlider(value=1976, min=1976, max=2040, step=4)\n",
    "interact(extendedMap, df=fixed(californiaFrame), year=slider, loc=fixed((37.8, -120)),zoom=fixed(5), points=fixed(points))\n",
    "None"
   ]
  },
  {
   "cell_type": "code",
   "execution_count": null,
   "metadata": {},
   "outputs": [],
   "source": [
    "geo = r'ca-counties.json'\n",
    "slider = widgets.IntSlider(value=1976, min=1976, max=2040, step=4)\n",
    "interact(constructExtendedTreemap, df=fixed(californiaFrame), year=slider)\n",
    "None"
   ]
  },
  {
   "cell_type": "code",
   "execution_count": null,
   "metadata": {},
   "outputs": [],
   "source": [
    "constructBarplot(californiaFrame, 1976, 2044, \"Democratic Lean of California (1976-2040)\")"
   ]
  },
  {
   "cell_type": "code",
   "execution_count": null,
   "metadata": {},
   "outputs": [],
   "source": [
    "plotSums(californiaFrame)"
   ]
  },
  {
   "cell_type": "code",
   "execution_count": null,
   "metadata": {},
   "outputs": [],
   "source": [
    "plotLeans(californiaFrame)"
   ]
  },
  {
   "cell_type": "code",
   "execution_count": null,
   "metadata": {
    "collapsed": true
   },
   "outputs": [],
   "source": [
    "newYorkFrame = pd.read_csv('newYorkResults.csv')\n",
    "newYorkCounties = [\"Albany\",\"Allegany\",\"Bronx\",\"Broome\",\"Cattaraugus\",\"Cayuga\",\"Chautauqua\",\"Chemung\",\"Chenango\",\"Clinton\",\"Columbia\",\"Cortland\",\"Delaware\",\"Dutchess\",\"Erie\",\"Essex\",\"Franklin\",\"Fulton\",\"Genesee\",\"Greene\",\"Hamilton\",\"Herkimer\",\"Jefferson\",\"Kings\",\"Lewis\",\"Livingston\",\"Madison\",\"Monroe\",\"Montgomery\",\"Nassau\",\"New York\",\"Niagara\",\"Oneida\",\"Onondaga\",\"Ontario\",\"Orange\",\"Orleans\",\"Oswego\",\"Otsego\",\"Putnam\",\"Queens\",\"Rensselaer\",\"Richmond\",\"Rockland\",\"Saratoga\",\"Schenectady\",\"Schoharie\",\"Schuyler\",\"Seneca\",\"St. Lawrence\",\"Steuben\",\"Suffolk\",\"Sullivan\",\"Tioga\",\"Tompkins\",\"Ulster\",\"Warren\",\"Washington\",\"Wayne\",\"Westchester\",\"Wyoming\",\"Yates\"]"
   ]
  },
  {
   "cell_type": "code",
   "execution_count": null,
   "metadata": {
    "collapsed": true
   },
   "outputs": [],
   "source": [
    "arizonaCounties = [\"Apache\", \"Cochise\", \"Coconino\", \"Gila\", \"Graham\", \"Greenlee\", \"La Paz\", \"Maricopa\", \"Mohave\", \"Navajo\", \"Pima\", \"Pinal\", \"Santa Cruz\", \"Yavapai\", \"Yuma\"]\n",
    "arizonaFrame = pd.read_csv('arizonaResults.csv')"
   ]
  },
  {
   "cell_type": "code",
   "execution_count": null,
   "metadata": {},
   "outputs": [],
   "source": [
    "counties = pd.read_json('us-counties.json')\n",
    "points = []\n",
    "for i in range(len(counties['features'])):\n",
    "    county = counties.iloc[i]['features']\n",
    "    name = county[\"properties\"][\"name\"]\n",
    "    name = name.strip()\n",
    "    if(county[\"id\"][0:2] == \"36\"):\n",
    "        print(name)\n",
    "        points.append(county[\"geometry\"][\"coordinates\"][0])"
   ]
  },
  {
   "cell_type": "code",
   "execution_count": null,
   "metadata": {},
   "outputs": [],
   "source": [
    "geo = r'ny-counties.json'\n",
    "slider = widgets.IntSlider(value=1976, min=1976, max=2040, step=4)\n",
    "interact(extendedMap, df=fixed(newYorkFrame), year=slider, loc=fixed((37.8, -120)),zoom=fixed(5), points=fixed(points))\n",
    "None"
   ]
  },
  {
   "cell_type": "code",
   "execution_count": null,
   "metadata": {},
   "outputs": [],
   "source": [
    "geo = r'ny-counties.json'\n",
    "slider = widgets.IntSlider(value=1976, min=1976, max=2040, step=4)\n",
    "interact(constructExtendedTreemap, df=fixed(newYorkprint(name)Frame), year=slider)\n",
    "None"
   ]
  },
  {
   "cell_type": "code",
   "execution_count": null,
   "metadata": {},
   "outputs": [],
   "source": [
    "constructBarplot(newYorkFrame, 1976, 2044, \"Democratic Lean of New York (1976-2040)\")"
   ]
  },
  {
   "cell_type": "code",
   "execution_count": null,
   "metadata": {},
   "outputs": [],
   "source": [
    "plotSums(newYorkFrame)"
   ]
  },
  {
   "cell_type": "code",
   "execution_count": null,
   "metadata": {},
   "outputs": [],
   "source": [
    "plotLeans(newYorkFrame)"
   ]
  },
  {
   "cell_type": "code",
   "execution_count": 73,
   "metadata": {},
   "outputs": [
    {
     "name": "stdout",
     "output_type": "stream",
     "text": [
      "Apache\n",
      "Cochise\n",
      "Coconino\n",
      "Gila\n",
      "Graham\n",
      "Greenlee\n",
      "La Paz\n",
      "Maricopa\n",
      "Mohave\n",
      "Navajo\n",
      "Pima\n",
      "Pinal\n",
      "Santa Cruz\n",
      "Yavapai\n",
      "Yuma\n",
      "Adair\n",
      "Alfalfa\n",
      "Atoka\n",
      "Beaver\n",
      "Beckham\n",
      "Blaine\n",
      "Bryan\n",
      "Caddo\n",
      "Canadian\n",
      "Carter\n",
      "Cherokee\n",
      "Choctaw\n",
      "Cimarron\n",
      "Cleveland\n",
      "Coal\n",
      "Comanche\n",
      "Cotton\n",
      "Craig\n",
      "Creek\n",
      "Custer\n",
      "Delaware\n",
      "Dewey\n",
      "Ellis\n",
      "Garfield\n",
      "Garvin\n",
      "Grady\n",
      "Grant\n",
      "Greer\n",
      "Harmon\n",
      "Harper\n",
      "Haskell\n",
      "Hughes\n",
      "Jackson\n",
      "Jefferson\n",
      "Johnston\n",
      "Kay\n",
      "Kingfisher\n",
      "Kiowa\n",
      "Latimer\n",
      "Le Flore\n",
      "Lincoln\n",
      "Logan\n",
      "Love\n",
      "McClain\n",
      "McCurtain\n",
      "McIntosh\n",
      "Major\n",
      "Marshall\n",
      "Mayes\n",
      "Murray\n",
      "Muskogee\n",
      "Noble\n",
      "Nowata\n",
      "Okfuskee\n",
      "Oklahoma\n",
      "Okmulgee\n",
      "Osage\n",
      "Ottawa\n",
      "Pawnee\n",
      "Payne\n",
      "Pittsburg\n",
      "Pontotoc\n",
      "Pottawatomie\n",
      "Pushmataha\n",
      "Roger Mills\n",
      "Rogers\n",
      "Seminole\n",
      "Sequoyah\n",
      "Stephens\n",
      "Texas\n",
      "Tillman\n",
      "Tulsa\n",
      "Wagoner\n",
      "Washington\n",
      "Washita\n",
      "Woods\n",
      "Woodward\n",
      "Baker\n",
      "Benton\n",
      "Clackamas\n",
      "Clatsop\n",
      "Columbia\n",
      "Coos\n",
      "Crook\n",
      "Curry\n",
      "Deschutes\n",
      "Douglas\n",
      "Gilliam\n",
      "Grant\n",
      "Harney\n",
      "Hood River\n",
      "Jackson\n",
      "Jefferson\n",
      "Josephine\n",
      "Klamath\n",
      "Lake\n",
      "Lane\n",
      "Lincoln\n",
      "Linn\n",
      "Malheur\n",
      "Marion\n",
      "Morrow\n",
      "Multnomah\n",
      "Polk\n",
      "Sherman\n",
      "Tillamook\n",
      "Umatilla\n",
      "Union\n",
      "Wallowa\n",
      "Wasco\n",
      "Washington\n",
      "Wheeler\n",
      "Yamhill\n",
      "Adams\n",
      "Allegheny\n",
      "Armstrong\n",
      "Beaver\n",
      "Bedford\n",
      "Berks\n",
      "Blair\n",
      "Bradford\n",
      "Bucks\n",
      "Butler\n",
      "Cambria\n",
      "Cameron\n",
      "Carbon\n",
      "Centre\n",
      "Chester\n",
      "Clarion\n",
      "Clearfield\n",
      "Clinton\n",
      "Columbia\n",
      "Crawford\n",
      "Cumberland\n",
      "Dauphin\n",
      "Delaware\n",
      "Elk\n",
      "Erie\n",
      "Fayette\n",
      "Forest\n",
      "Franklin\n",
      "Fulton\n",
      "Greene\n",
      "Huntingdon\n",
      "Indiana\n",
      "Jefferson\n",
      "Juniata\n",
      "Lackawanna\n",
      "Lancaster\n",
      "Lawrence\n",
      "Lebanon\n",
      "Lehigh\n",
      "Luzerne\n",
      "Lycoming\n",
      "McKean\n",
      "Mercer\n",
      "Mifflin\n",
      "Monroe\n",
      "Montgomery\n",
      "Montour\n",
      "Northampton\n",
      "Northumberland\n",
      "Perry\n",
      "Philadelphia\n",
      "Pike\n",
      "Potter\n",
      "Schuylkill\n",
      "Snyder\n",
      "Somerset\n",
      "Sullivan\n",
      "Susquehanna\n",
      "Tioga\n",
      "Union\n",
      "Venango\n",
      "Warren\n",
      "Washington\n",
      "Wayne\n",
      "Westmoreland\n",
      "Wyoming\n",
      "York\n",
      "Bristol\n",
      "Kent\n",
      "Providence\n",
      "Washington\n",
      "Abbeville\n",
      "Aiken\n",
      "Allendale\n",
      "Anderson\n",
      "Bamberg\n",
      "Barnwell\n",
      "Beaufort\n",
      "Berkeley\n",
      "Calhoun\n",
      "Charleston\n",
      "Cherokee\n",
      "Chester\n",
      "Chesterfield\n",
      "Clarendon\n",
      "Colleton\n",
      "Darlington\n",
      "Dillon\n",
      "Dorchester\n",
      "Edgefield\n",
      "Fairfield\n",
      "Florence\n",
      "Georgetown\n",
      "Greenville\n",
      "Greenwood\n",
      "Hampton\n",
      "Horry\n",
      "Jasper\n",
      "Kershaw\n",
      "Lancaster\n",
      "Laurens\n",
      "Lee\n",
      "Lexington\n",
      "McCormick\n",
      "Marion\n",
      "Marlboro\n",
      "Newberry\n",
      "Oconee\n",
      "Orangeburg\n",
      "Pickens\n",
      "Richland\n",
      "Saluda\n",
      "Spartanburg\n",
      "Sumter\n",
      "Union\n",
      "Williamsburg\n",
      "York\n",
      "Aurora\n",
      "Beadle\n",
      "Bennett\n",
      "Bon Homme\n",
      "Brookings\n",
      "Brown\n",
      "Brule\n",
      "Buffalo\n",
      "Butte\n",
      "Campbell\n",
      "Charles Mix\n",
      "Clark\n",
      "Clay\n",
      "Codington\n",
      "Corson\n",
      "Custer\n",
      "Davison\n",
      "Day\n",
      "Deuel\n",
      "Dewey\n",
      "Douglas\n",
      "Edmunds\n",
      "Fall River\n",
      "Faulk\n",
      "Grant\n",
      "Gregory\n",
      "Haakon\n",
      "Hamlin\n",
      "Hand\n",
      "Hanson\n",
      "Harding\n",
      "Hughes\n",
      "Hutchinson\n",
      "Hyde\n",
      "Jackson\n",
      "Jerauld\n",
      "Jones\n",
      "Kingsbury\n",
      "Lake\n",
      "Lawrence\n",
      "Lincoln\n",
      "Lyman\n",
      "McCook\n",
      "McPherson\n",
      "Marshall\n",
      "Meade\n",
      "Mellette\n",
      "Miner\n",
      "Minnehaha\n",
      "Moody\n",
      "Pennington\n",
      "Perkins\n",
      "Potter\n",
      "Roberts\n",
      "Sanborn\n",
      "Shannon\n",
      "Spink\n",
      "Stanley\n",
      "Sully\n",
      "Todd\n",
      "Tripp\n",
      "Turner\n",
      "Union\n",
      "Walworth\n",
      "Yankton\n",
      "Ziebach\n",
      "Anderson\n",
      "Bedford\n",
      "Benton\n",
      "Bledsoe\n",
      "Blount\n",
      "Bradley\n",
      "Campbell\n",
      "Cannon\n",
      "Carroll\n",
      "Carter\n",
      "Cheatham\n",
      "Chester\n",
      "Claiborne\n",
      "Clay\n",
      "Cocke\n",
      "Coffee\n",
      "Crockett\n",
      "Cumberland\n",
      "Davidson\n",
      "Decatur\n",
      "DeKalb\n",
      "Dickson\n",
      "Dyer\n",
      "Fayette\n",
      "Fentress\n",
      "Franklin\n",
      "Gibson\n",
      "Giles\n",
      "Grainger\n",
      "Greene\n",
      "Grundy\n",
      "Hamblen\n",
      "Hamilton\n",
      "Hancock\n",
      "Hardeman\n",
      "Hardin\n",
      "Hawkins\n",
      "Haywood\n",
      "Henderson\n",
      "Henry\n",
      "Hickman\n",
      "Houston\n",
      "Humphreys\n",
      "Jackson\n",
      "Jefferson\n",
      "Johnson\n",
      "Knox\n",
      "Lake\n",
      "Lauderdale\n",
      "Lawrence\n",
      "Lewis\n",
      "Lincoln\n",
      "Loudon\n",
      "McMinn\n",
      "McNairy\n",
      "Macon\n",
      "Madison\n",
      "Marion\n",
      "Marshall\n",
      "Maury\n",
      "Meigs\n",
      "Monroe\n",
      "Montgomery\n",
      "Moore\n",
      "Morgan\n",
      "Obion\n",
      "Overton\n",
      "Perry\n",
      "Pickett\n",
      "Polk\n",
      "Putnam\n",
      "Rhea\n",
      "Roane\n",
      "Robertson\n",
      "Rutherford\n",
      "Scott\n",
      "Sequatchie\n",
      "Sevier\n",
      "Shelby\n",
      "Smith\n",
      "Stewart\n",
      "Sullivan\n",
      "Sumner\n",
      "Tipton\n",
      "Trousdale\n",
      "Unicoi\n",
      "Union\n",
      "Van Buren\n",
      "Warren\n",
      "Washington\n",
      "Wayne\n",
      "Weakley\n",
      "White\n",
      "Williamson\n",
      "Wilson\n",
      "Anderson\n",
      "Andrews\n",
      "Angelina\n",
      "Aransas\n",
      "Archer\n",
      "Armstrong\n",
      "Atascosa\n",
      "Austin\n",
      "Bailey\n",
      "Bandera\n",
      "Bastrop\n",
      "Baylor\n",
      "Bee\n",
      "Bell\n",
      "Bexar\n",
      "Blanco\n",
      "Borden\n",
      "Bosque\n",
      "Bowie\n",
      "Brazoria\n",
      "Brazos\n",
      "Brewster\n",
      "Briscoe\n",
      "Brooks\n",
      "Brown\n",
      "Burleson\n",
      "Burnet\n",
      "Caldwell\n",
      "Calhoun\n",
      "Callahan\n",
      "Cameron\n",
      "Camp\n",
      "Carson\n",
      "Cass\n",
      "Castro\n",
      "Chambers\n",
      "Cherokee\n",
      "Childress\n",
      "Clay\n",
      "Cochran\n",
      "Coke\n",
      "Coleman\n",
      "Collin\n",
      "Collingsworth\n",
      "Colorado\n",
      "Comal\n",
      "Comanche\n",
      "Concho\n",
      "Cooke\n",
      "Coryell\n",
      "Cottle\n",
      "Crane\n",
      "Crockett\n",
      "Crosby\n",
      "Culberson\n",
      "Dallam\n",
      "Dallas\n",
      "Dawson\n",
      "Deaf Smith\n",
      "Delta\n",
      "Denton\n",
      "DeWitt\n",
      "Dickens\n",
      "Dimmit\n",
      "Donley\n",
      "Duval\n",
      "Eastland\n",
      "Ector\n",
      "Edwards\n",
      "Ellis\n",
      "El Paso\n",
      "Erath\n",
      "Falls\n",
      "Fannin\n",
      "Fayette\n",
      "Fisher\n",
      "Floyd\n",
      "Foard\n",
      "Fort Bend\n",
      "Franklin\n",
      "Freestone\n",
      "Frio\n",
      "Gaines\n",
      "Galveston\n",
      "Garza\n",
      "Gillespie\n",
      "Glasscock\n",
      "Goliad\n",
      "Gonzales\n",
      "Gray\n",
      "Grayson\n",
      "Gregg\n",
      "Grimes\n",
      "Guadalupe\n",
      "Hale\n",
      "Hall\n",
      "Hamilton\n",
      "Hansford\n",
      "Hardeman\n",
      "Hardin\n",
      "Harris\n",
      "Harrison\n",
      "Hartley\n",
      "Haskell\n",
      "Hays\n",
      "Hemphill\n",
      "Henderson\n",
      "Hidalgo\n",
      "Hill\n",
      "Hockley\n",
      "Hood\n",
      "Hopkins\n",
      "Houston\n",
      "Howard\n",
      "Hudspeth\n",
      "Hunt\n",
      "Hutchinson\n",
      "Irion\n",
      "Jack\n",
      "Jackson\n",
      "Jasper\n",
      "Jeff Davis\n",
      "Jefferson\n",
      "Jim Hogg\n",
      "Jim Wells\n",
      "Johnson\n",
      "Jones\n",
      "Karnes\n",
      "Kaufman\n",
      "Kendall\n",
      "Kenedy\n",
      "Kent\n",
      "Kerr\n",
      "Kimble\n",
      "King\n",
      "Kinney\n",
      "Kleberg\n",
      "Knox\n",
      "Lamar\n",
      "Lamb\n",
      "Lampasas\n",
      "La Salle\n",
      "Lavaca\n",
      "Lee\n",
      "Leon\n",
      "Liberty\n",
      "Limestone\n",
      "Lipscomb\n",
      "Live Oak\n",
      "Llano\n",
      "Loving\n",
      "Lubbock\n",
      "Lynn\n",
      "McCulloch\n",
      "McLennan\n",
      "McMullen\n",
      "Madison\n",
      "Marion\n",
      "Martin\n",
      "Mason\n",
      "Matagorda\n",
      "Maverick\n",
      "Medina\n",
      "Menard\n",
      "Midland\n",
      "Milam\n",
      "Mills\n",
      "Mitchell\n",
      "Montague\n",
      "Montgomery\n",
      "Moore\n",
      "Morris\n",
      "Motley\n",
      "Nacogdoches\n",
      "Navarro\n",
      "Newton\n",
      "Nolan\n",
      "Nueces\n",
      "Ochiltree\n",
      "Oldham\n",
      "Orange\n",
      "Palo Pinto\n",
      "Panola\n",
      "Parker\n",
      "Parmer\n",
      "Pecos\n",
      "Polk\n",
      "Potter\n",
      "Presidio\n",
      "Rains\n",
      "Randall\n",
      "Reagan\n",
      "Real\n",
      "Red River\n",
      "Reeves\n",
      "Refugio\n",
      "Roberts\n",
      "Robertson\n",
      "Rockwall\n",
      "Runnels\n",
      "Rusk\n",
      "Sabine\n",
      "San Augustine\n",
      "San Jacinto\n",
      "San Patricio\n",
      "San Saba\n",
      "Schleicher\n",
      "Scurry\n",
      "Shackelford\n",
      "Shelby\n",
      "Sherman\n",
      "Smith\n",
      "Somervell\n",
      "Starr\n",
      "Stephens\n",
      "Sterling\n",
      "Stonewall\n",
      "Sutton\n",
      "Swisher\n",
      "Tarrant\n",
      "Taylor\n",
      "Terrell\n",
      "Terry\n",
      "Throckmorton\n",
      "Titus\n",
      "Tom Green\n",
      "Travis\n",
      "Trinity\n",
      "Tyler\n",
      "Upshur\n",
      "Upton\n",
      "Uvalde\n",
      "Val Verde\n",
      "Van Zandt\n",
      "Victoria\n",
      "Walker\n",
      "Waller\n",
      "Ward\n",
      "Washington\n",
      "Webb\n",
      "Wharton\n",
      "Wheeler\n",
      "Wichita\n",
      "Wilbarger\n",
      "Willacy\n",
      "Williamson\n",
      "Wilson\n",
      "Winkler\n",
      "Wise\n",
      "Wood\n",
      "Yoakum\n",
      "Young\n",
      "Zapata\n",
      "Zavala\n",
      "Beaver\n",
      "Box Elder\n",
      "Cache\n",
      "Carbon\n",
      "Daggett\n",
      "Davis\n",
      "Duchesne\n",
      "Emery\n",
      "Garfield\n",
      "Grand\n",
      "Iron\n",
      "Juab\n",
      "Kane\n",
      "Millard\n",
      "Morgan\n",
      "Piute\n",
      "Rich\n",
      "Salt Lake\n",
      "San Juan\n",
      "Sanpete\n",
      "Sevier\n",
      "Summit\n",
      "Tooele\n",
      "Uintah\n",
      "Utah\n",
      "Wasatch\n",
      "Washington\n",
      "Wayne\n",
      "Weber\n"
     ]
    }
   ],
   "source": [
    "counties = pd.read_json('us-counties.json')\n",
    "points = []\n",
    "for i in range(len(counties['features'])):\n",
    "    county = counties.iloc[i]['features']\n",
    "    name = county[\"properties\"][\"name\"]\n",
    "    name = name.strip()\n",
    "    if(county[\"id\"][0] == \"4\"):\n",
    "        print(name)\n",
    "        points.append(county[\"geometry\"][\"coordinates\"][0])"
   ]
  },
  {
   "cell_type": "code",
   "execution_count": 74,
   "metadata": {},
   "outputs": [
    {
     "data": {
      "application/vnd.jupyter.widget-view+json": {
       "model_id": "43a602d4c5cb4b7bbfd9958e21bea1b8"
      }
     },
     "metadata": {},
     "output_type": "display_data"
    }
   ],
   "source": [
    "geo = r'az-counties.json'\n",
    "slider = widgets.IntSlider(value=1976, min=1976, max=2040, step=4)\n",
    "interact(extendedMap, df=fixed(arizonaFrame), year=slider, loc=fixed((37.8, -120)),zoom=fixed(5), points=fixed(points))\n",
    "None"
   ]
  },
  {
   "cell_type": "code",
   "execution_count": 75,
   "metadata": {},
   "outputs": [
    {
     "data": {
      "application/vnd.jupyter.widget-view+json": {
       "model_id": "f8288447cbc748b58916ae767baba5bc"
      }
     },
     "metadata": {},
     "output_type": "display_data"
    }
   ],
   "source": [
    "geo = r'az-counties.json'\n",
    "slider = widgets.IntSlider(value=1976, min=1976, max=2040, step=4)\n",
    "interact(constructExtendedTreemap, df=fixed(arizonaFrame), year=slider)\n",
    "None"
   ]
  },
  {
   "cell_type": "code",
   "execution_count": 76,
   "metadata": {},
   "outputs": [
    {
     "name": "stdout",
     "output_type": "stream",
     "text": [
      "Year: 1976DemTotal: 3412802.11299RepTotal: 3121574.88701\n",
      "Year: 1980DemTotal: 3005848.47562RepTotal: 3195652.52438\n",
      "Year: 1984DemTotal: 3130330.32872RepTotal: 3676454.67128\n",
      "Year: 1988DemTotal: 3377379.07578RepTotal: 3108224.92422\n",
      "Year: 1992DemTotal: 4062274.57372RepTotal: 2864520.42628\n",
      "Year: 1996DemTotal: 4142731.97009RepTotal: 2173251.02991\n",
      "Year: 2000DemTotal: 4305866.99873RepTotal: 2525165.00127\n",
      "Year: 2004DemTotal: 4379493.61223RepTotal: 3012263.38777\n",
      "Year: 2008DemTotal: 4854662.3173RepTotal: 2786164.6827\n",
      "Year: 2012DemTotal: 4550471.29743RepTotal: 2530908.70257\n",
      "Year: 2016DemTotal: 4754423.36328RepTotal: 2966651.63672\n",
      "Year: 2020DemTotal: 4758836.5418RepTotal: 3038138.60106\n",
      "Year: 2024DemTotal: 4819447.16586RepTotal: 3143676.53652\n",
      "Year: 2028DemTotal: 4879449.33785RepTotal: 3249822.92406\n",
      "Year: 2032DemTotal: 4938844.74861RepTotal: 3356576.07282\n",
      "Year: 2036DemTotal: 4997635.08043RepTotal: 3463934.30052\n",
      "Year: 2040DemTotal: 5055822.00707RepTotal: 3571895.9334\n"
     ]
    },
    {
     "data": {
      "image/png": "[encoded data removed]",
      "text/plain": [
       "<matplotlib.figure.Figure at 0x11a0d3518>"
      ]
     },
     "metadata": {},
     "output_type": "display_data"
    }
   ],
   "source": [
    "constructBarplot(newYorkFrame, 1976, 2044, \"Democratic Lean of Arizona (1976-2040)\")"
   ]
  },
  {
   "cell_type": "code",
   "execution_count": 77,
   "metadata": {},
   "outputs": [
    {
     "data": {
      "image/png": "[encoded data removed]",
      "text/plain": [
       "<matplotlib.figure.Figure at 0x1151b4278>"
      ]
     },
     "metadata": {},
     "output_type": "display_data"
    }
   ],
   "source": [
    "plotSums(arizonaFrame)"
   ]
  },
  {
   "cell_type": "code",
   "execution_count": 78,
   "metadata": {},
   "outputs": [
    {
     "data": {
      "image/png": "[encoded data removed]",
      "text/plain": [
       "<matplotlib.figure.Figure at 0x11a48db70>"
      ]
     },
     "metadata": {},
     "output_type": "display_data"
    }
   ],
   "source": [
    "plotLeans(arizonaFrame)"
   ]
  },
  {
   "cell_type": "code",
   "execution_count": null,
   "metadata": {
    "collapsed": true
   },
   "outputs": [],
   "source": []
  }
 ],
 "metadata": {
  "kernelspec": {
   "display_name": "Python 3",
   "language": "python",
   "name": "python3"
  },
  "language_info": {
   "codemirror_mode": {
    "name": "ipython",
    "version": 3
   },
   "file_extension": ".py",
   "mimetype": "text/x-python",
   "name": "python",
   "nbconvert_exporter": "python",
   "pygments_lexer": "ipython3",
   "version": "3.6.1"
  }
 },
 "nbformat": 4,
 "nbformat_minor": 2
}
